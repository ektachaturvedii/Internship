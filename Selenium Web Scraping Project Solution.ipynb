{
 "cells": [
  {
   "cell_type": "code",
   "execution_count": 1,
   "id": "7b714765",
   "metadata": {},
   "outputs": [
    {
     "name": "stdout",
     "output_type": "stream",
     "text": [
      "Requirement already satisfied: selenium in c:\\users\\ektac\\anaconda3\\lib\\site-packages (4.25.0)\n",
      "Requirement already satisfied: urllib3[socks]<3,>=1.26 in c:\\users\\ektac\\anaconda3\\lib\\site-packages (from selenium) (1.26.16)\n",
      "Requirement already satisfied: trio~=0.17 in c:\\users\\ektac\\anaconda3\\lib\\site-packages (from selenium) (0.26.2)\n",
      "Requirement already satisfied: trio-websocket~=0.9 in c:\\users\\ektac\\anaconda3\\lib\\site-packages (from selenium) (0.11.1)\n",
      "Requirement already satisfied: certifi>=2021.10.8 in c:\\users\\ektac\\anaconda3\\lib\\site-packages (from selenium) (2024.7.4)\n",
      "Requirement already satisfied: typing_extensions~=4.9 in c:\\users\\ektac\\anaconda3\\lib\\site-packages (from selenium) (4.12.2)\n",
      "Requirement already satisfied: websocket-client~=1.8 in c:\\users\\ektac\\anaconda3\\lib\\site-packages (from selenium) (1.8.0)\n",
      "Requirement already satisfied: attrs>=23.2.0 in c:\\users\\ektac\\anaconda3\\lib\\site-packages (from trio~=0.17->selenium) (24.2.0)\n",
      "Requirement already satisfied: sortedcontainers in c:\\users\\ektac\\anaconda3\\lib\\site-packages (from trio~=0.17->selenium) (2.4.0)\n",
      "Requirement already satisfied: idna in c:\\users\\ektac\\anaconda3\\lib\\site-packages (from trio~=0.17->selenium) (3.4)\n",
      "Requirement already satisfied: outcome in c:\\users\\ektac\\anaconda3\\lib\\site-packages (from trio~=0.17->selenium) (1.3.0.post0)\n",
      "Requirement already satisfied: sniffio>=1.3.0 in c:\\users\\ektac\\anaconda3\\lib\\site-packages (from trio~=0.17->selenium) (1.3.1)\n",
      "Requirement already satisfied: cffi>=1.14 in c:\\users\\ektac\\anaconda3\\lib\\site-packages (from trio~=0.17->selenium) (1.15.1)\n",
      "Requirement already satisfied: wsproto>=0.14 in c:\\users\\ektac\\anaconda3\\lib\\site-packages (from trio-websocket~=0.9->selenium) (1.2.0)\n",
      "Requirement already satisfied: PySocks!=1.5.7,<2.0,>=1.5.6 in c:\\users\\ektac\\anaconda3\\lib\\site-packages (from urllib3[socks]<3,>=1.26->selenium) (1.7.1)\n",
      "Requirement already satisfied: pycparser in c:\\users\\ektac\\anaconda3\\lib\\site-packages (from cffi>=1.14->trio~=0.17->selenium) (2.21)\n",
      "Requirement already satisfied: h11<1,>=0.9.0 in c:\\users\\ektac\\anaconda3\\lib\\site-packages (from wsproto>=0.14->trio-websocket~=0.9->selenium) (0.14.0)\n"
     ]
    }
   ],
   "source": [
    "!pip install selenium"
   ]
  },
  {
   "cell_type": "code",
   "execution_count": 2,
   "id": "8c9aae69",
   "metadata": {},
   "outputs": [],
   "source": [
    "import selenium \n",
    "import pandas as pd\n",
    "from selenium import webdriver\n",
    "import warnings\n",
    "warnings.filterwarnings('ignore')\n",
    "from selenium.webdriver.common.by import By\n",
    "import time"
   ]
  },
  {
   "cell_type": "code",
   "execution_count": 3,
   "id": "8e613d12",
   "metadata": {},
   "outputs": [],
   "source": [
    "driver = webdriver.Chrome()"
   ]
  },
  {
   "cell_type": "code",
   "execution_count": 4,
   "id": "68fdaed0",
   "metadata": {},
   "outputs": [],
   "source": [
    "driver.get('https://www.naukri.com/')"
   ]
  },
  {
   "cell_type": "code",
   "execution_count": 5,
   "id": "ca00cbe3",
   "metadata": {},
   "outputs": [],
   "source": [
    "designation=driver.find_element(By.CLASS_NAME,\"suggestor-input \")\n",
    "designation.send_keys('Data Scientist')"
   ]
  },
  {
   "cell_type": "code",
   "execution_count": 6,
   "id": "a843f2b2",
   "metadata": {},
   "outputs": [],
   "source": [
    "location=driver.find_element(By.XPATH,\"//html/body/div[1]/div[7]/div/div/div[5]/div/div/div/div[1]/div/input\")\n",
    "location.send_keys('Delhi/NCR')"
   ]
  },
  {
   "cell_type": "code",
   "execution_count": 7,
   "id": "163ea637",
   "metadata": {},
   "outputs": [],
   "source": [
    "search=driver.find_element(By.CLASS_NAME,\"qsbSubmit\")\n",
    "search.click()"
   ]
  },
  {
   "cell_type": "code",
   "execution_count": 8,
   "id": "09b4bf63",
   "metadata": {},
   "outputs": [],
   "source": [
    "job_title=[]\n",
    "job_location=[]\n",
    "company_name=[]\n",
    "experience_required=[]"
   ]
  },
  {
   "cell_type": "code",
   "execution_count": 9,
   "id": "004e2792",
   "metadata": {},
   "outputs": [
    {
     "data": {
      "text/plain": [
       "['Data Scientist - Statistical Modeling (Immediate joiners)',\n",
       " 'Data Scientist- Revenue Growth Management',\n",
       " 'Gen AI Data Scientist - Pan India',\n",
       " 'Data Scientist',\n",
       " 'Data Scientist',\n",
       " '',\n",
       " '',\n",
       " '',\n",
       " 'Data Scientist',\n",
       " 'Lead Data Scientist - Marketing Analytics']"
      ]
     },
     "execution_count": 9,
     "metadata": {},
     "output_type": "execute_result"
    }
   ],
   "source": [
    "title_tags=driver.find_elements(By.XPATH,'//a[@class=\"title \"]')\n",
    "for i in title_tags:\n",
    "    title=i.text\n",
    "    job_title.append(title)\n",
    "    \n",
    "job_title[0:10]"
   ]
  },
  {
   "cell_type": "code",
   "execution_count": 10,
   "id": "b12ee2e7",
   "metadata": {},
   "outputs": [
    {
     "data": {
      "text/plain": [
       "['Hybrid - Gurugram, Bengaluru, Mumbai (All Areas)',\n",
       " 'Pune, Gurugram, Bengaluru',\n",
       " 'Hyderabad, Gurugram, Bengaluru',\n",
       " 'Gurugram',\n",
       " 'Gurugram',\n",
       " 'Kolkata, Mumbai, New Delhi, Hyderabad, Pune, Chennai, Bengaluru',\n",
       " 'Kolkata, Mumbai, New Delhi, Hyderabad, Pune, Chennai, Bengaluru',\n",
       " 'Kolkata, Mumbai, New Delhi, Hyderabad, Pune, Chennai, Bengaluru',\n",
       " 'Hybrid - Noida, Hyderabad, Bengaluru',\n",
       " 'Mumbai, Pune, Chennai, Gurugram, Bengaluru']"
      ]
     },
     "execution_count": 10,
     "metadata": {},
     "output_type": "execute_result"
    }
   ],
   "source": [
    "location_tags=driver.find_elements(By.XPATH,'//span[@class=\"locWdth\"]')\n",
    "for i in location_tags:\n",
    "    location=i.text\n",
    "    job_location.append(location)\n",
    "    \n",
    "job_location[0:10]"
   ]
  },
  {
   "cell_type": "code",
   "execution_count": 11,
   "id": "1095b378",
   "metadata": {},
   "outputs": [
    {
     "data": {
      "text/plain": [
       "['Evalueserve',\n",
       " 'EY',\n",
       " 'Genpact',\n",
       " 'IIFL Finance',\n",
       " 'Indusind Bank',\n",
       " 'Futurism Technologies',\n",
       " 'Nityo Infotech',\n",
       " 'Nityo Infotech',\n",
       " 'Straive',\n",
       " 'Neal Analytics']"
      ]
     },
     "execution_count": 11,
     "metadata": {},
     "output_type": "execute_result"
    }
   ],
   "source": [
    "company_tags=driver.find_elements(By.XPATH,'//a[@class=\" comp-name mw-25\"]')\n",
    "for i in company_tags:\n",
    "    company=i.text\n",
    "    company_name.append(company)\n",
    "    \n",
    "company_name[0:10]"
   ]
  },
  {
   "cell_type": "code",
   "execution_count": 12,
   "id": "2732a001",
   "metadata": {},
   "outputs": [
    {
     "data": {
      "text/plain": [
       "['3-8 Yrs',\n",
       " '4-8 Yrs',\n",
       " '6-11 Yrs',\n",
       " '3-6 Yrs',\n",
       " '6-10 Yrs',\n",
       " '3-7 Yrs',\n",
       " '3-7 Yrs',\n",
       " '3-7 Yrs',\n",
       " '4-6 Yrs',\n",
       " '1-6 Yrs']"
      ]
     },
     "execution_count": 12,
     "metadata": {},
     "output_type": "execute_result"
    }
   ],
   "source": [
    "experience_tags=driver.find_elements(By.XPATH,'//span[@class=\"expwdth\"]')\n",
    "for i in experience_tags:\n",
    "    exp=i.text\n",
    "    experience_required.append(exp)\n",
    "    \n",
    "experience_required[:10]"
   ]
  },
  {
   "cell_type": "code",
   "execution_count": 13,
   "id": "61e1390a",
   "metadata": {},
   "outputs": [
    {
     "name": "stdout",
     "output_type": "stream",
     "text": [
      "10 10 10 10\n"
     ]
    }
   ],
   "source": [
    "print(len(job_title[:10]),len(job_location[:10]),len(company_name[:10]),len(experience_required[:10]))"
   ]
  },
  {
   "cell_type": "code",
   "execution_count": 14,
   "id": "58ead3d1",
   "metadata": {
    "scrolled": true
   },
   "outputs": [
    {
     "ename": "ValueError",
     "evalue": "All arrays must be of the same length",
     "output_type": "error",
     "traceback": [
      "\u001b[1;31m---------------------------------------------------------------------------\u001b[0m",
      "\u001b[1;31mValueError\u001b[0m                                Traceback (most recent call last)",
      "Cell \u001b[1;32mIn[14], line 2\u001b[0m\n\u001b[0;32m      1\u001b[0m \u001b[38;5;28;01mimport\u001b[39;00m \u001b[38;5;21;01mpandas\u001b[39;00m \u001b[38;5;28;01mas\u001b[39;00m \u001b[38;5;21;01mpd\u001b[39;00m\n\u001b[1;32m----> 2\u001b[0m df \u001b[38;5;241m=\u001b[39m pd\u001b[38;5;241m.\u001b[39mDataFrame({\u001b[38;5;124m'\u001b[39m\u001b[38;5;124mTitle\u001b[39m\u001b[38;5;124m'\u001b[39m:job_title, \u001b[38;5;124m'\u001b[39m\u001b[38;5;124mLocation\u001b[39m\u001b[38;5;124m'\u001b[39m:job_location, \u001b[38;5;124m'\u001b[39m\u001b[38;5;124mCompany_name\u001b[39m\u001b[38;5;124m'\u001b[39m:company_name, \u001b[38;5;124m'\u001b[39m\u001b[38;5;124mExperience\u001b[39m\u001b[38;5;124m'\u001b[39m:experience_required})\n\u001b[0;32m      3\u001b[0m df\n",
      "File \u001b[1;32m~\\anaconda3\\Lib\\site-packages\\pandas\\core\\frame.py:709\u001b[0m, in \u001b[0;36mDataFrame.__init__\u001b[1;34m(self, data, index, columns, dtype, copy)\u001b[0m\n\u001b[0;32m    703\u001b[0m     mgr \u001b[38;5;241m=\u001b[39m \u001b[38;5;28mself\u001b[39m\u001b[38;5;241m.\u001b[39m_init_mgr(\n\u001b[0;32m    704\u001b[0m         data, axes\u001b[38;5;241m=\u001b[39m{\u001b[38;5;124m\"\u001b[39m\u001b[38;5;124mindex\u001b[39m\u001b[38;5;124m\"\u001b[39m: index, \u001b[38;5;124m\"\u001b[39m\u001b[38;5;124mcolumns\u001b[39m\u001b[38;5;124m\"\u001b[39m: columns}, dtype\u001b[38;5;241m=\u001b[39mdtype, copy\u001b[38;5;241m=\u001b[39mcopy\n\u001b[0;32m    705\u001b[0m     )\n\u001b[0;32m    707\u001b[0m \u001b[38;5;28;01melif\u001b[39;00m \u001b[38;5;28misinstance\u001b[39m(data, \u001b[38;5;28mdict\u001b[39m):\n\u001b[0;32m    708\u001b[0m     \u001b[38;5;66;03m# GH#38939 de facto copy defaults to False only in non-dict cases\u001b[39;00m\n\u001b[1;32m--> 709\u001b[0m     mgr \u001b[38;5;241m=\u001b[39m dict_to_mgr(data, index, columns, dtype\u001b[38;5;241m=\u001b[39mdtype, copy\u001b[38;5;241m=\u001b[39mcopy, typ\u001b[38;5;241m=\u001b[39mmanager)\n\u001b[0;32m    710\u001b[0m \u001b[38;5;28;01melif\u001b[39;00m \u001b[38;5;28misinstance\u001b[39m(data, ma\u001b[38;5;241m.\u001b[39mMaskedArray):\n\u001b[0;32m    711\u001b[0m     \u001b[38;5;28;01mfrom\u001b[39;00m \u001b[38;5;21;01mnumpy\u001b[39;00m\u001b[38;5;21;01m.\u001b[39;00m\u001b[38;5;21;01mma\u001b[39;00m \u001b[38;5;28;01mimport\u001b[39;00m mrecords\n",
      "File \u001b[1;32m~\\anaconda3\\Lib\\site-packages\\pandas\\core\\internals\\construction.py:481\u001b[0m, in \u001b[0;36mdict_to_mgr\u001b[1;34m(data, index, columns, dtype, typ, copy)\u001b[0m\n\u001b[0;32m    477\u001b[0m     \u001b[38;5;28;01melse\u001b[39;00m:\n\u001b[0;32m    478\u001b[0m         \u001b[38;5;66;03m# dtype check to exclude e.g. range objects, scalars\u001b[39;00m\n\u001b[0;32m    479\u001b[0m         arrays \u001b[38;5;241m=\u001b[39m [x\u001b[38;5;241m.\u001b[39mcopy() \u001b[38;5;28;01mif\u001b[39;00m \u001b[38;5;28mhasattr\u001b[39m(x, \u001b[38;5;124m\"\u001b[39m\u001b[38;5;124mdtype\u001b[39m\u001b[38;5;124m\"\u001b[39m) \u001b[38;5;28;01melse\u001b[39;00m x \u001b[38;5;28;01mfor\u001b[39;00m x \u001b[38;5;129;01min\u001b[39;00m arrays]\n\u001b[1;32m--> 481\u001b[0m \u001b[38;5;28;01mreturn\u001b[39;00m arrays_to_mgr(arrays, columns, index, dtype\u001b[38;5;241m=\u001b[39mdtype, typ\u001b[38;5;241m=\u001b[39mtyp, consolidate\u001b[38;5;241m=\u001b[39mcopy)\n",
      "File \u001b[1;32m~\\anaconda3\\Lib\\site-packages\\pandas\\core\\internals\\construction.py:115\u001b[0m, in \u001b[0;36marrays_to_mgr\u001b[1;34m(arrays, columns, index, dtype, verify_integrity, typ, consolidate)\u001b[0m\n\u001b[0;32m    112\u001b[0m \u001b[38;5;28;01mif\u001b[39;00m verify_integrity:\n\u001b[0;32m    113\u001b[0m     \u001b[38;5;66;03m# figure out the index, if necessary\u001b[39;00m\n\u001b[0;32m    114\u001b[0m     \u001b[38;5;28;01mif\u001b[39;00m index \u001b[38;5;129;01mis\u001b[39;00m \u001b[38;5;28;01mNone\u001b[39;00m:\n\u001b[1;32m--> 115\u001b[0m         index \u001b[38;5;241m=\u001b[39m _extract_index(arrays)\n\u001b[0;32m    116\u001b[0m     \u001b[38;5;28;01melse\u001b[39;00m:\n\u001b[0;32m    117\u001b[0m         index \u001b[38;5;241m=\u001b[39m ensure_index(index)\n",
      "File \u001b[1;32m~\\anaconda3\\Lib\\site-packages\\pandas\\core\\internals\\construction.py:655\u001b[0m, in \u001b[0;36m_extract_index\u001b[1;34m(data)\u001b[0m\n\u001b[0;32m    653\u001b[0m lengths \u001b[38;5;241m=\u001b[39m \u001b[38;5;28mlist\u001b[39m(\u001b[38;5;28mset\u001b[39m(raw_lengths))\n\u001b[0;32m    654\u001b[0m \u001b[38;5;28;01mif\u001b[39;00m \u001b[38;5;28mlen\u001b[39m(lengths) \u001b[38;5;241m>\u001b[39m \u001b[38;5;241m1\u001b[39m:\n\u001b[1;32m--> 655\u001b[0m     \u001b[38;5;28;01mraise\u001b[39;00m \u001b[38;5;167;01mValueError\u001b[39;00m(\u001b[38;5;124m\"\u001b[39m\u001b[38;5;124mAll arrays must be of the same length\u001b[39m\u001b[38;5;124m\"\u001b[39m)\n\u001b[0;32m    657\u001b[0m \u001b[38;5;28;01mif\u001b[39;00m have_dicts:\n\u001b[0;32m    658\u001b[0m     \u001b[38;5;28;01mraise\u001b[39;00m \u001b[38;5;167;01mValueError\u001b[39;00m(\n\u001b[0;32m    659\u001b[0m         \u001b[38;5;124m\"\u001b[39m\u001b[38;5;124mMixing dicts with non-Series may lead to ambiguous ordering.\u001b[39m\u001b[38;5;124m\"\u001b[39m\n\u001b[0;32m    660\u001b[0m     )\n",
      "\u001b[1;31mValueError\u001b[0m: All arrays must be of the same length"
     ]
    }
   ],
   "source": [
    "import pandas as pd\n",
    "df = pd.DataFrame({'Title':job_title, 'Location':job_location, 'Company_name':company_name, 'Experience':experience_required})\n",
    "df"
   ]
  },
  {
   "cell_type": "markdown",
   "id": "988a81cc",
   "metadata": {},
   "source": [
    "."
   ]
  },
  {
   "cell_type": "markdown",
   "id": "fdfb6cd8",
   "metadata": {},
   "source": [
    "."
   ]
  },
  {
   "cell_type": "code",
   "execution_count": 15,
   "id": "a93ead9d",
   "metadata": {},
   "outputs": [],
   "source": [
    "driver = webdriver.Chrome()"
   ]
  },
  {
   "cell_type": "code",
   "execution_count": 16,
   "id": "34639d70",
   "metadata": {},
   "outputs": [],
   "source": [
    "driver.get('https://www.shine.com/')"
   ]
  },
  {
   "cell_type": "code",
   "execution_count": 19,
   "id": "143877b7",
   "metadata": {},
   "outputs": [],
   "source": [
    "designation=driver.find_element(By.CLASS_NAME,\"form-control  \")\n",
    "designation.send_keys('Data Analyst')"
   ]
  },
  {
   "cell_type": "code",
   "execution_count": 21,
   "id": "856c81ac",
   "metadata": {},
   "outputs": [],
   "source": [
    "location=driver.find_element(By.XPATH,\"/html/body/div/div[4]/div/div[2]/div[2]/div/form/div/div[1]/ul/li[2]/div/input\")\n",
    "location.send_keys('Bangalore')"
   ]
  },
  {
   "cell_type": "code",
   "execution_count": 22,
   "id": "c291c4c9",
   "metadata": {},
   "outputs": [],
   "source": [
    "search=driver.find_element(By.CLASS_NAME,\"searchForm_btnWrap_advance__VYBHN\")\n",
    "search.click()"
   ]
  },
  {
   "cell_type": "code",
   "execution_count": 23,
   "id": "a0701da9",
   "metadata": {},
   "outputs": [],
   "source": [
    "job_title=[]\n",
    "job_location=[]\n",
    "company_name=[]\n",
    "experience_required=[]"
   ]
  },
  {
   "cell_type": "code",
   "execution_count": 24,
   "id": "26a800ae",
   "metadata": {},
   "outputs": [
    {
     "data": {
      "text/plain": [
       "['Data Analyst',\n",
       " 'Logistics Data Analyst',\n",
       " 'Senior Data Analyst / Business Analyst',\n",
       " 'Manager, Data Analyst',\n",
       " 'Data Analyst - PySpark',\n",
       " 'Data Analyst Specialist',\n",
       " 'Senior Data Analyst',\n",
       " 'Data Analyst',\n",
       " 'Data Analysts',\n",
       " 'Data Analyst']"
      ]
     },
     "execution_count": 24,
     "metadata": {},
     "output_type": "execute_result"
    }
   ],
   "source": [
    "title_tags=driver.find_elements(By.XPATH,'//strong[@class=\"jobCard_pReplaceH2__xWmHg\"]')\n",
    "for i in title_tags:\n",
    "    title=i.text\n",
    "    job_title.append(title)\n",
    "    \n",
    "job_title[:10]"
   ]
  },
  {
   "cell_type": "code",
   "execution_count": 25,
   "id": "3f13b803",
   "metadata": {},
   "outputs": [
    {
     "data": {
      "text/plain": [
       "['All India',\n",
       " 'Other Karnataka',\n",
       " 'Other Gujarat\\n+1',\n",
       " 'Other Maharashtra\\n+1',\n",
       " 'Other Maharashtra\\n+1',\n",
       " 'All India',\n",
       " 'All India',\n",
       " 'Other Karnataka',\n",
       " 'Other Gujarat\\n+1',\n",
       " 'Other Gujarat\\n+1']"
      ]
     },
     "execution_count": 25,
     "metadata": {},
     "output_type": "execute_result"
    }
   ],
   "source": [
    "location_tags=driver.find_elements(By.XPATH,'//div[@class=\"jobCard_jobCard_lists_item__YxRkV jobCard_locationIcon__zrWt2\"]')\n",
    "for i in location_tags:\n",
    "    location=i.text\n",
    "    job_location.append(location)\n",
    "    \n",
    "job_location[:10]"
   ]
  },
  {
   "cell_type": "code",
   "execution_count": 26,
   "id": "b85f4ce2",
   "metadata": {},
   "outputs": [
    {
     "data": {
      "text/plain": [
       "['allica bank',\n",
       " 'reshamandi',\n",
       " 'ikamate hr india pvt.ltd',\n",
       " 'gtt',\n",
       " 'idyllic services pvt. ltd.',\n",
       " 'trigent software inc',\n",
       " 'pharmaforceiq',\n",
       " 'novo nordisk',\n",
       " 'kaapro management solutions',\n",
       " '99plus it solutions']"
      ]
     },
     "execution_count": 26,
     "metadata": {},
     "output_type": "execute_result"
    }
   ],
   "source": [
    "company_tags=driver.find_elements(By.XPATH,'//div[@class=\"jobCard_jobCard_cName__mYnow\"]')\n",
    "for i in company_tags:\n",
    "    company=i.text\n",
    "    company_name.append(company)\n",
    "    \n",
    "company_name[:10]"
   ]
  },
  {
   "cell_type": "code",
   "execution_count": 27,
   "id": "bc5b0815",
   "metadata": {},
   "outputs": [
    {
     "data": {
      "text/plain": [
       "['2 to 6 Yrs',\n",
       " '2 to 6 Yrs',\n",
       " '2 to 6 Yrs',\n",
       " '3 to 7 Yrs',\n",
       " '5 to 9 Yrs',\n",
       " '5 to 9 Yrs',\n",
       " '5 to 9 Yrs',\n",
       " '10 to 14 Yrs',\n",
       " '1 to 5 Yrs',\n",
       " '3 to 7 Yrs']"
      ]
     },
     "execution_count": 27,
     "metadata": {},
     "output_type": "execute_result"
    }
   ],
   "source": [
    "experience_tags=driver.find_elements(By.XPATH,'//div[@class=\" jobCard_jobCard_lists_item__YxRkV jobCard_jobIcon__3FB1t\"]')\n",
    "for i in experience_tags:\n",
    "    exp=i.text\n",
    "    experience_required.append(exp)\n",
    "    \n",
    "experience_required[:10]"
   ]
  },
  {
   "cell_type": "code",
   "execution_count": 28,
   "id": "c7e23c56",
   "metadata": {},
   "outputs": [
    {
     "name": "stdout",
     "output_type": "stream",
     "text": [
      "20 20 20 20\n"
     ]
    }
   ],
   "source": [
    "print(len(job_title),len(job_location),len(company_name),len(experience_required))"
   ]
  },
  {
   "cell_type": "code",
   "execution_count": 29,
   "id": "7282b7bc",
   "metadata": {},
   "outputs": [
    {
     "data": {
      "text/html": [
       "<div>\n",
       "<style scoped>\n",
       "    .dataframe tbody tr th:only-of-type {\n",
       "        vertical-align: middle;\n",
       "    }\n",
       "\n",
       "    .dataframe tbody tr th {\n",
       "        vertical-align: top;\n",
       "    }\n",
       "\n",
       "    .dataframe thead th {\n",
       "        text-align: right;\n",
       "    }\n",
       "</style>\n",
       "<table border=\"1\" class=\"dataframe\">\n",
       "  <thead>\n",
       "    <tr style=\"text-align: right;\">\n",
       "      <th></th>\n",
       "      <th>Title</th>\n",
       "      <th>Location</th>\n",
       "      <th>Company_name</th>\n",
       "      <th>Experience</th>\n",
       "    </tr>\n",
       "  </thead>\n",
       "  <tbody>\n",
       "    <tr>\n",
       "      <th>0</th>\n",
       "      <td>Data Analyst</td>\n",
       "      <td>All India</td>\n",
       "      <td>allica bank</td>\n",
       "      <td>2 to 6 Yrs</td>\n",
       "    </tr>\n",
       "    <tr>\n",
       "      <th>1</th>\n",
       "      <td>Logistics Data Analyst</td>\n",
       "      <td>Other Karnataka</td>\n",
       "      <td>reshamandi</td>\n",
       "      <td>2 to 6 Yrs</td>\n",
       "    </tr>\n",
       "    <tr>\n",
       "      <th>2</th>\n",
       "      <td>Senior Data Analyst / Business Analyst</td>\n",
       "      <td>Other Gujarat\\n+1</td>\n",
       "      <td>ikamate hr india pvt.ltd</td>\n",
       "      <td>2 to 6 Yrs</td>\n",
       "    </tr>\n",
       "    <tr>\n",
       "      <th>3</th>\n",
       "      <td>Manager, Data Analyst</td>\n",
       "      <td>Other Maharashtra\\n+1</td>\n",
       "      <td>gtt</td>\n",
       "      <td>3 to 7 Yrs</td>\n",
       "    </tr>\n",
       "    <tr>\n",
       "      <th>4</th>\n",
       "      <td>Data Analyst - PySpark</td>\n",
       "      <td>Other Maharashtra\\n+1</td>\n",
       "      <td>idyllic services pvt. ltd.</td>\n",
       "      <td>5 to 9 Yrs</td>\n",
       "    </tr>\n",
       "    <tr>\n",
       "      <th>5</th>\n",
       "      <td>Data Analyst Specialist</td>\n",
       "      <td>All India</td>\n",
       "      <td>trigent software inc</td>\n",
       "      <td>5 to 9 Yrs</td>\n",
       "    </tr>\n",
       "    <tr>\n",
       "      <th>6</th>\n",
       "      <td>Senior Data Analyst</td>\n",
       "      <td>All India</td>\n",
       "      <td>pharmaforceiq</td>\n",
       "      <td>5 to 9 Yrs</td>\n",
       "    </tr>\n",
       "    <tr>\n",
       "      <th>7</th>\n",
       "      <td>Data Analyst</td>\n",
       "      <td>Other Karnataka</td>\n",
       "      <td>novo nordisk</td>\n",
       "      <td>10 to 14 Yrs</td>\n",
       "    </tr>\n",
       "    <tr>\n",
       "      <th>8</th>\n",
       "      <td>Data Analysts</td>\n",
       "      <td>Other Gujarat\\n+1</td>\n",
       "      <td>kaapro management solutions</td>\n",
       "      <td>1 to 5 Yrs</td>\n",
       "    </tr>\n",
       "    <tr>\n",
       "      <th>9</th>\n",
       "      <td>Data Analyst</td>\n",
       "      <td>Other Gujarat\\n+1</td>\n",
       "      <td>99plus it solutions</td>\n",
       "      <td>3 to 7 Yrs</td>\n",
       "    </tr>\n",
       "    <tr>\n",
       "      <th>10</th>\n",
       "      <td>Data Analyst - United Nations</td>\n",
       "      <td>All India</td>\n",
       "      <td>ntt data europe &amp; latam</td>\n",
       "      <td>2 to 6 Yrs</td>\n",
       "    </tr>\n",
       "    <tr>\n",
       "      <th>11</th>\n",
       "      <td>Power BI Data Analyst</td>\n",
       "      <td>Other Gujarat\\n+1</td>\n",
       "      <td>mcs ventures</td>\n",
       "      <td>2 to 6 Yrs</td>\n",
       "    </tr>\n",
       "    <tr>\n",
       "      <th>12</th>\n",
       "      <td>Data Analyst - Health Care domain</td>\n",
       "      <td>Other Karnataka</td>\n",
       "      <td>fragma data systems</td>\n",
       "      <td>3 to 7 Yrs</td>\n",
       "    </tr>\n",
       "    <tr>\n",
       "      <th>13</th>\n",
       "      <td>Data Analyst</td>\n",
       "      <td>Other Maharashtra\\n+1</td>\n",
       "      <td>skills acquisition</td>\n",
       "      <td>1 to 7 Yrs</td>\n",
       "    </tr>\n",
       "    <tr>\n",
       "      <th>14</th>\n",
       "      <td>Interesting Opportunity Data Analyst</td>\n",
       "      <td>All India</td>\n",
       "      <td>mapcom info solution</td>\n",
       "      <td>2 to 6 Yrs</td>\n",
       "    </tr>\n",
       "    <tr>\n",
       "      <th>15</th>\n",
       "      <td>HSSE Q&amp;R Data Analyst - Resource Center India</td>\n",
       "      <td>Other Karnataka</td>\n",
       "      <td>sbm offshore</td>\n",
       "      <td>3 to 7 Yrs</td>\n",
       "    </tr>\n",
       "    <tr>\n",
       "      <th>16</th>\n",
       "      <td>Solution Engineer PSSP Data Analyst</td>\n",
       "      <td>Chennai\\n+1</td>\n",
       "      <td>pfizer</td>\n",
       "      <td>3 to 7 Yrs</td>\n",
       "    </tr>\n",
       "    <tr>\n",
       "      <th>17</th>\n",
       "      <td>Data Analyst , Senior Data Analyst , Data Anal...</td>\n",
       "      <td>Gurugram\\n+8</td>\n",
       "      <td>appsoft solutions</td>\n",
       "      <td>0 to 4 Yrs</td>\n",
       "    </tr>\n",
       "    <tr>\n",
       "      <th>18</th>\n",
       "      <td>Data Analyst in Sweden</td>\n",
       "      <td>Sweden</td>\n",
       "      <td>flight to sucess immigration llp</td>\n",
       "      <td>6 to 11 Yrs</td>\n",
       "    </tr>\n",
       "    <tr>\n",
       "      <th>19</th>\n",
       "      <td>Data Analyst</td>\n",
       "      <td>Mumbai City\\n+4</td>\n",
       "      <td>aryan technology</td>\n",
       "      <td>0 to 4 Yrs</td>\n",
       "    </tr>\n",
       "  </tbody>\n",
       "</table>\n",
       "</div>"
      ],
      "text/plain": [
       "                                                Title               Location  \\\n",
       "0                                        Data Analyst              All India   \n",
       "1                              Logistics Data Analyst        Other Karnataka   \n",
       "2              Senior Data Analyst / Business Analyst      Other Gujarat\\n+1   \n",
       "3                               Manager, Data Analyst  Other Maharashtra\\n+1   \n",
       "4                              Data Analyst - PySpark  Other Maharashtra\\n+1   \n",
       "5                             Data Analyst Specialist              All India   \n",
       "6                                 Senior Data Analyst              All India   \n",
       "7                                        Data Analyst        Other Karnataka   \n",
       "8                                       Data Analysts      Other Gujarat\\n+1   \n",
       "9                                        Data Analyst      Other Gujarat\\n+1   \n",
       "10                      Data Analyst - United Nations              All India   \n",
       "11                              Power BI Data Analyst      Other Gujarat\\n+1   \n",
       "12                  Data Analyst - Health Care domain        Other Karnataka   \n",
       "13                                       Data Analyst  Other Maharashtra\\n+1   \n",
       "14               Interesting Opportunity Data Analyst              All India   \n",
       "15      HSSE Q&R Data Analyst - Resource Center India        Other Karnataka   \n",
       "16                Solution Engineer PSSP Data Analyst            Chennai\\n+1   \n",
       "17  Data Analyst , Senior Data Analyst , Data Anal...           Gurugram\\n+8   \n",
       "18                             Data Analyst in Sweden                 Sweden   \n",
       "19                                       Data Analyst        Mumbai City\\n+4   \n",
       "\n",
       "                        Company_name    Experience  \n",
       "0                        allica bank    2 to 6 Yrs  \n",
       "1                         reshamandi    2 to 6 Yrs  \n",
       "2           ikamate hr india pvt.ltd    2 to 6 Yrs  \n",
       "3                                gtt    3 to 7 Yrs  \n",
       "4         idyllic services pvt. ltd.    5 to 9 Yrs  \n",
       "5               trigent software inc    5 to 9 Yrs  \n",
       "6                      pharmaforceiq    5 to 9 Yrs  \n",
       "7                       novo nordisk  10 to 14 Yrs  \n",
       "8        kaapro management solutions    1 to 5 Yrs  \n",
       "9                99plus it solutions    3 to 7 Yrs  \n",
       "10           ntt data europe & latam    2 to 6 Yrs  \n",
       "11                      mcs ventures    2 to 6 Yrs  \n",
       "12               fragma data systems    3 to 7 Yrs  \n",
       "13                skills acquisition    1 to 7 Yrs  \n",
       "14              mapcom info solution    2 to 6 Yrs  \n",
       "15                      sbm offshore    3 to 7 Yrs  \n",
       "16                            pfizer    3 to 7 Yrs  \n",
       "17                 appsoft solutions    0 to 4 Yrs  \n",
       "18  flight to sucess immigration llp   6 to 11 Yrs  \n",
       "19                  aryan technology    0 to 4 Yrs  "
      ]
     },
     "execution_count": 29,
     "metadata": {},
     "output_type": "execute_result"
    }
   ],
   "source": [
    "import pandas as pd\n",
    "df = pd.DataFrame({'Title':job_title, 'Location':job_location, 'Company_name':company_name, 'Experience':experience_required})\n",
    "df"
   ]
  },
  {
   "cell_type": "markdown",
   "id": "4e0f1f93",
   "metadata": {},
   "source": [
    "."
   ]
  },
  {
   "cell_type": "markdown",
   "id": "a854a205",
   "metadata": {},
   "source": [
    "."
   ]
  },
  {
   "cell_type": "code",
   "execution_count": 30,
   "id": "c3f0016a",
   "metadata": {},
   "outputs": [],
   "source": [
    "driver = webdriver.Chrome()"
   ]
  },
  {
   "cell_type": "code",
   "execution_count": 31,
   "id": "40a36927",
   "metadata": {},
   "outputs": [],
   "source": [
    "driver.get('https://www.flipkart.com/apple-iphone-11-black-64-gb/product-reviews/itm4e5041ba101fd?pid=MOBFWQ6BXGJCEYNY&lid=LSTMOBFWQ6BXGJCEYNYZXSHRJ&marketplace=FLIPKART')"
   ]
  },
  {
   "cell_type": "code",
   "execution_count": 32,
   "id": "1179cabf",
   "metadata": {},
   "outputs": [],
   "source": [
    "rating = []\n",
    "review_summury = []\n",
    "full_review = []"
   ]
  },
  {
   "cell_type": "code",
   "execution_count": 33,
   "id": "b22febd2",
   "metadata": {},
   "outputs": [],
   "source": [
    "rates=driver.find_elements(By.XPATH,'//div[@class=\"XQDdHH Ga3i8K\"]')\n",
    "for i in rates:\n",
    "    star=i.text\n",
    "    rating.append(star)"
   ]
  },
  {
   "cell_type": "code",
   "execution_count": 34,
   "id": "c672c355",
   "metadata": {},
   "outputs": [],
   "source": [
    "brief=driver.find_elements(By.XPATH,'//p[@class=\"z9E0IG\"]')\n",
    "for i in brief:\n",
    "    summury=i.text\n",
    "    review_summury.append(summury)"
   ]
  },
  {
   "cell_type": "code",
   "execution_count": 35,
   "id": "80787c12",
   "metadata": {},
   "outputs": [],
   "source": [
    "description=driver.find_elements(By.XPATH,'//div[@class=\"ZmyHeo\"]')\n",
    "for i in description:\n",
    "    full=i.text\n",
    "    full_review.append(full)"
   ]
  },
  {
   "cell_type": "code",
   "execution_count": 36,
   "id": "6ef3aeaa",
   "metadata": {},
   "outputs": [
    {
     "name": "stdout",
     "output_type": "stream",
     "text": [
      "10 10 10\n"
     ]
    }
   ],
   "source": [
    "print(len(rating),len(review_summury),len(full_review))"
   ]
  },
  {
   "cell_type": "code",
   "execution_count": 37,
   "id": "39351a0e",
   "metadata": {},
   "outputs": [],
   "source": [
    "Ratings=[]"
   ]
  },
  {
   "cell_type": "code",
   "execution_count": 38,
   "id": "2b4a5872",
   "metadata": {},
   "outputs": [
    {
     "ename": "NoSuchElementException",
     "evalue": "Message: no such element: Unable to locate element: {\"method\":\"xpath\",\"selector\":\"/html/body/div/div/div[3]/div/div/div[2]/div[5]/div/div/nav/a[12]\"}\n  (Session info: chrome=128.0.6613.138); For documentation on this error, please visit: https://www.selenium.dev/documentation/webdriver/troubleshooting/errors#no-such-element-exception\nStacktrace:\n\tGetHandleVerifier [0x00007FF666AF9412+29090]\n\t(No symbol) [0x00007FF666A6E239]\n\t(No symbol) [0x00007FF66692B1DA]\n\t(No symbol) [0x00007FF66697EFE7]\n\t(No symbol) [0x00007FF66697F23C]\n\t(No symbol) [0x00007FF6669C97C7]\n\t(No symbol) [0x00007FF6669A672F]\n\t(No symbol) [0x00007FF6669C65A2]\n\t(No symbol) [0x00007FF6669A6493]\n\t(No symbol) [0x00007FF6669709D1]\n\t(No symbol) [0x00007FF666971B31]\n\tGetHandleVerifier [0x00007FF666E1871D+3302573]\n\tGetHandleVerifier [0x00007FF666E64243+3612627]\n\tGetHandleVerifier [0x00007FF666E5A417+3572135]\n\tGetHandleVerifier [0x00007FF666BB5EB6+801862]\n\t(No symbol) [0x00007FF666A7945F]\n\t(No symbol) [0x00007FF666A74FB4]\n\t(No symbol) [0x00007FF666A75140]\n\t(No symbol) [0x00007FF666A6461F]\n\tBaseThreadInitThunk [0x00007FFFE771257D+29]\n\tRtlUserThreadStart [0x00007FFFE88AAF28+40]\n",
     "output_type": "error",
     "traceback": [
      "\u001b[1;31m---------------------------------------------------------------------------\u001b[0m",
      "\u001b[1;31mNoSuchElementException\u001b[0m                    Traceback (most recent call last)",
      "Cell \u001b[1;32mIn[38], line 7\u001b[0m\n\u001b[0;32m      5\u001b[0m \u001b[38;5;28;01mfor\u001b[39;00m i \u001b[38;5;129;01min\u001b[39;00m rate:\n\u001b[0;32m      6\u001b[0m     Ratings\u001b[38;5;241m.\u001b[39mappend(i\u001b[38;5;241m.\u001b[39mtext)\n\u001b[1;32m----> 7\u001b[0m Next_button\u001b[38;5;241m=\u001b[39mdriver\u001b[38;5;241m.\u001b[39mfind_element(By\u001b[38;5;241m.\u001b[39mXPATH,\u001b[38;5;124m'\u001b[39m\u001b[38;5;124m/html/body/div/div/div[3]/div/div/div[2]/div[5]/div/div/nav/a[12]\u001b[39m\u001b[38;5;124m'\u001b[39m)\n\u001b[0;32m      8\u001b[0m Next_button\u001b[38;5;241m.\u001b[39mclick()\n\u001b[0;32m      9\u001b[0m time\u001b[38;5;241m.\u001b[39msleep(\u001b[38;5;241m3\u001b[39m)\n",
      "File \u001b[1;32m~\\anaconda3\\Lib\\site-packages\\selenium\\webdriver\\remote\\webdriver.py:748\u001b[0m, in \u001b[0;36mWebDriver.find_element\u001b[1;34m(self, by, value)\u001b[0m\n\u001b[0;32m    745\u001b[0m     by \u001b[38;5;241m=\u001b[39m By\u001b[38;5;241m.\u001b[39mCSS_SELECTOR\n\u001b[0;32m    746\u001b[0m     value \u001b[38;5;241m=\u001b[39m \u001b[38;5;124mf\u001b[39m\u001b[38;5;124m'\u001b[39m\u001b[38;5;124m[name=\u001b[39m\u001b[38;5;124m\"\u001b[39m\u001b[38;5;132;01m{\u001b[39;00mvalue\u001b[38;5;132;01m}\u001b[39;00m\u001b[38;5;124m\"\u001b[39m\u001b[38;5;124m]\u001b[39m\u001b[38;5;124m'\u001b[39m\n\u001b[1;32m--> 748\u001b[0m \u001b[38;5;28;01mreturn\u001b[39;00m \u001b[38;5;28mself\u001b[39m\u001b[38;5;241m.\u001b[39mexecute(Command\u001b[38;5;241m.\u001b[39mFIND_ELEMENT, {\u001b[38;5;124m\"\u001b[39m\u001b[38;5;124musing\u001b[39m\u001b[38;5;124m\"\u001b[39m: by, \u001b[38;5;124m\"\u001b[39m\u001b[38;5;124mvalue\u001b[39m\u001b[38;5;124m\"\u001b[39m: value})[\u001b[38;5;124m\"\u001b[39m\u001b[38;5;124mvalue\u001b[39m\u001b[38;5;124m\"\u001b[39m]\n",
      "File \u001b[1;32m~\\anaconda3\\Lib\\site-packages\\selenium\\webdriver\\remote\\webdriver.py:354\u001b[0m, in \u001b[0;36mWebDriver.execute\u001b[1;34m(self, driver_command, params)\u001b[0m\n\u001b[0;32m    352\u001b[0m response \u001b[38;5;241m=\u001b[39m \u001b[38;5;28mself\u001b[39m\u001b[38;5;241m.\u001b[39mcommand_executor\u001b[38;5;241m.\u001b[39mexecute(driver_command, params)\n\u001b[0;32m    353\u001b[0m \u001b[38;5;28;01mif\u001b[39;00m response:\n\u001b[1;32m--> 354\u001b[0m     \u001b[38;5;28mself\u001b[39m\u001b[38;5;241m.\u001b[39merror_handler\u001b[38;5;241m.\u001b[39mcheck_response(response)\n\u001b[0;32m    355\u001b[0m     response[\u001b[38;5;124m\"\u001b[39m\u001b[38;5;124mvalue\u001b[39m\u001b[38;5;124m\"\u001b[39m] \u001b[38;5;241m=\u001b[39m \u001b[38;5;28mself\u001b[39m\u001b[38;5;241m.\u001b[39m_unwrap_value(response\u001b[38;5;241m.\u001b[39mget(\u001b[38;5;124m\"\u001b[39m\u001b[38;5;124mvalue\u001b[39m\u001b[38;5;124m\"\u001b[39m, \u001b[38;5;28;01mNone\u001b[39;00m))\n\u001b[0;32m    356\u001b[0m     \u001b[38;5;28;01mreturn\u001b[39;00m response\n",
      "File \u001b[1;32m~\\anaconda3\\Lib\\site-packages\\selenium\\webdriver\\remote\\errorhandler.py:229\u001b[0m, in \u001b[0;36mErrorHandler.check_response\u001b[1;34m(self, response)\u001b[0m\n\u001b[0;32m    227\u001b[0m         alert_text \u001b[38;5;241m=\u001b[39m value[\u001b[38;5;124m\"\u001b[39m\u001b[38;5;124malert\u001b[39m\u001b[38;5;124m\"\u001b[39m]\u001b[38;5;241m.\u001b[39mget(\u001b[38;5;124m\"\u001b[39m\u001b[38;5;124mtext\u001b[39m\u001b[38;5;124m\"\u001b[39m)\n\u001b[0;32m    228\u001b[0m     \u001b[38;5;28;01mraise\u001b[39;00m exception_class(message, screen, stacktrace, alert_text)  \u001b[38;5;66;03m# type: ignore[call-arg]  # mypy is not smart enough here\u001b[39;00m\n\u001b[1;32m--> 229\u001b[0m \u001b[38;5;28;01mraise\u001b[39;00m exception_class(message, screen, stacktrace)\n",
      "\u001b[1;31mNoSuchElementException\u001b[0m: Message: no such element: Unable to locate element: {\"method\":\"xpath\",\"selector\":\"/html/body/div/div/div[3]/div/div/div[2]/div[5]/div/div/nav/a[12]\"}\n  (Session info: chrome=128.0.6613.138); For documentation on this error, please visit: https://www.selenium.dev/documentation/webdriver/troubleshooting/errors#no-such-element-exception\nStacktrace:\n\tGetHandleVerifier [0x00007FF666AF9412+29090]\n\t(No symbol) [0x00007FF666A6E239]\n\t(No symbol) [0x00007FF66692B1DA]\n\t(No symbol) [0x00007FF66697EFE7]\n\t(No symbol) [0x00007FF66697F23C]\n\t(No symbol) [0x00007FF6669C97C7]\n\t(No symbol) [0x00007FF6669A672F]\n\t(No symbol) [0x00007FF6669C65A2]\n\t(No symbol) [0x00007FF6669A6493]\n\t(No symbol) [0x00007FF6669709D1]\n\t(No symbol) [0x00007FF666971B31]\n\tGetHandleVerifier [0x00007FF666E1871D+3302573]\n\tGetHandleVerifier [0x00007FF666E64243+3612627]\n\tGetHandleVerifier [0x00007FF666E5A417+3572135]\n\tGetHandleVerifier [0x00007FF666BB5EB6+801862]\n\t(No symbol) [0x00007FF666A7945F]\n\t(No symbol) [0x00007FF666A74FB4]\n\t(No symbol) [0x00007FF666A75140]\n\t(No symbol) [0x00007FF666A6461F]\n\tBaseThreadInitThunk [0x00007FFFE771257D+29]\n\tRtlUserThreadStart [0x00007FFFE88AAF28+40]\n"
     ]
    }
   ],
   "source": [
    "start = 0 \n",
    "end = 10\n",
    "for page in range(start,end):\n",
    "    rate=driver.find_elements(By.XPATH,'//div[@class=\"XQDdHH Ga3i8K\"]')\n",
    "    for i in rate:\n",
    "        Ratings.append(i.text)\n",
    "    Next_button=driver.find_element(By.XPATH,'/html/body/div/div/div[3]/div/div/div[2]/div[5]/div/div/nav/a[12]')\n",
    "    Next_button.click()\n",
    "    time.sleep(3)"
   ]
  },
  {
   "cell_type": "code",
   "execution_count": 39,
   "id": "d360ef8a",
   "metadata": {},
   "outputs": [
    {
     "ename": "AttributeError",
     "evalue": "'list' object has no attribute 'click'",
     "output_type": "error",
     "traceback": [
      "\u001b[1;31m---------------------------------------------------------------------------\u001b[0m",
      "\u001b[1;31mAttributeError\u001b[0m                            Traceback (most recent call last)",
      "Cell \u001b[1;32mIn[39], line 8\u001b[0m\n\u001b[0;32m      6\u001b[0m     review_summury\u001b[38;5;241m.\u001b[39mappend(i\u001b[38;5;241m.\u001b[39mtext)\n\u001b[0;32m      7\u001b[0m next_button\u001b[38;5;241m=\u001b[39mdriver\u001b[38;5;241m.\u001b[39mfind_elements(By\u001b[38;5;241m.\u001b[39mXPATH,\u001b[38;5;124m'\u001b[39m\u001b[38;5;124m/html/body/div/div/div[3]/div/div/div[2]/div[5]/div/div/nav/a[12]\u001b[39m\u001b[38;5;124m'\u001b[39m)\n\u001b[1;32m----> 8\u001b[0m next_button\u001b[38;5;241m.\u001b[39mclick()\n\u001b[0;32m      9\u001b[0m time\u001b[38;5;241m.\u001b[39msleep(\u001b[38;5;241m5\u001b[39m)\n",
      "\u001b[1;31mAttributeError\u001b[0m: 'list' object has no attribute 'click'"
     ]
    }
   ],
   "source": [
    "start = 0 \n",
    "end = 10\n",
    "for page in range(start,end):\n",
    "    brief=driver.find_elements(By.XPATH,'//p[@class=\"z9E0IG\"]')\n",
    "    for i in brief:\n",
    "        review_summury.append(i.text)\n",
    "    next_button=driver.find_elements(By.XPATH,'/html/body/div/div/div[3]/div/div/div[2]/div[5]/div/div/nav/a[12]')\n",
    "    next_button.click()\n",
    "    time.sleep(5)"
   ]
  },
  {
   "cell_type": "code",
   "execution_count": 40,
   "id": "3de0b021",
   "metadata": {},
   "outputs": [
    {
     "ename": "AttributeError",
     "evalue": "'list' object has no attribute 'click'",
     "output_type": "error",
     "traceback": [
      "\u001b[1;31m---------------------------------------------------------------------------\u001b[0m",
      "\u001b[1;31mAttributeError\u001b[0m                            Traceback (most recent call last)",
      "Cell \u001b[1;32mIn[40], line 8\u001b[0m\n\u001b[0;32m      6\u001b[0m     full_review\u001b[38;5;241m.\u001b[39mappend(i\u001b[38;5;241m.\u001b[39mtext)\n\u001b[0;32m      7\u001b[0m next_button\u001b[38;5;241m=\u001b[39mdriver\u001b[38;5;241m.\u001b[39mfind_elements(By\u001b[38;5;241m.\u001b[39mXPATH,\u001b[38;5;124m'\u001b[39m\u001b[38;5;124m/html/body/div/div/div[3]/div/div/div[2]/div[5]/div/div/nav/a[12]\u001b[39m\u001b[38;5;124m'\u001b[39m)\n\u001b[1;32m----> 8\u001b[0m next_button\u001b[38;5;241m.\u001b[39mclick()\n\u001b[0;32m      9\u001b[0m time\u001b[38;5;241m.\u001b[39msleep(\u001b[38;5;241m5\u001b[39m)\n",
      "\u001b[1;31mAttributeError\u001b[0m: 'list' object has no attribute 'click'"
     ]
    }
   ],
   "source": [
    "start = 0 \n",
    "end = 10\n",
    "for page in range(start,end):\n",
    "    description=driver.find_elements(By.XPATH,'//div[@class=\"ZmyHeo\"]')\n",
    "    for i in description:\n",
    "        full_review.append(i.text)\n",
    "    next_button=driver.find_elements(By.XPATH,'/html/body/div/div/div[3]/div/div/div[2]/div[5]/div/div/nav/a[12]')\n",
    "    next_button.click()\n",
    "    time.sleep(5)"
   ]
  },
  {
   "cell_type": "markdown",
   "id": "ff64b44b",
   "metadata": {},
   "source": [
    "."
   ]
  },
  {
   "cell_type": "markdown",
   "id": "b404975c",
   "metadata": {},
   "source": [
    "."
   ]
  },
  {
   "cell_type": "code",
   "execution_count": 41,
   "id": "47abab57",
   "metadata": {},
   "outputs": [],
   "source": [
    "driver = webdriver.Chrome()"
   ]
  },
  {
   "cell_type": "code",
   "execution_count": 42,
   "id": "7e5a80d3",
   "metadata": {},
   "outputs": [],
   "source": [
    "driver.get('https://www.flipkart.com/')"
   ]
  },
  {
   "cell_type": "code",
   "execution_count": 43,
   "id": "82525603",
   "metadata": {},
   "outputs": [],
   "source": [
    "search=driver.find_element(By.CLASS_NAME,'Pke_EE')\n",
    "search.send_keys('Sneakers')"
   ]
  },
  {
   "cell_type": "code",
   "execution_count": 44,
   "id": "a016d038",
   "metadata": {},
   "outputs": [],
   "source": [
    "Brand=[]\n",
    "Product_Description=[]\n",
    "Price=[]"
   ]
  },
  {
   "cell_type": "code",
   "execution_count": 45,
   "id": "077659ab",
   "metadata": {},
   "outputs": [],
   "source": [
    "names=driver.find_elements(By.XPATH,'//div[@class=\"syl9yP\"]')\n",
    "for i in names:\n",
    "    brandname=i.text\n",
    "    Brand.append(brandname)"
   ]
  },
  {
   "cell_type": "code",
   "execution_count": 46,
   "id": "546bb4b9",
   "metadata": {},
   "outputs": [
    {
     "data": {
      "text/plain": [
       "['Combo pack of 2 Trendy Men’s Casual Shoes Sneakers For ...',\n",
       " 'LEAP7X by Liberty DUGLAS-2E Casual Shoe Sneakers For Me...',\n",
       " 'Sneakers For Men',\n",
       " 'Sneakers For Men',\n",
       " 'Casual Sneaker Shoes for Men | Elegantly Rounded Front,...',\n",
       " 'Sneakers For Men',\n",
       " 'Casual Sneaker Shoes for Men | Soft Cushioned Insole, S...',\n",
       " 'Sneakers For Men',\n",
       " \"Men's Color-blocked Sneakers Sneakers For Men\",\n",
       " 'Raymax IDP Sneakers For Men',\n",
       " 'Casual Sports Shoes for Men | Soft Cushioned Insole, Sl...',\n",
       " 'Casual Sneaker Shoes for Men | Elegantly Rounded Front,...',\n",
       " 'Altas Sports Sneakers For Men',\n",
       " '550 Sneakers For Men',\n",
       " 'Casual Sneaker Shoes for Men | Soft Cushioned Insole, S...',\n",
       " 'Teveris Nitro Canyons Sneakers For Men',\n",
       " 'Teveris Nitro Vortex Sneakers For Men',\n",
       " 'Noah Sneakers For Men',\n",
       " 'Sneaker Casual Shoes For Men | Soft Cushion Insole, Sli...',\n",
       " 'Combo Pack of 2 Trendy & Stylish Casual Shoes Sneakers ...',\n",
       " 'Breathable, Walking, Running, Casual,Gym Shoes Sneakers...',\n",
       " '2 Pair Combo Trendy & Stylish Sneakers For Men',\n",
       " 'SM 671 | Stylish, Comfortable | Sneakers For Men',\n",
       " 'Puma x 1DER Brook Sneakers For Men',\n",
       " 'Ebernon Low Sneakers For Men',\n",
       " 'Sneakers For Men',\n",
       " 'Casual Sneaker Shoes for Men | Elegantly Rounded Front,...',\n",
       " 'KNKRIPO-4 Lightweight Comfort Summer Trendy Premium Sty...']"
      ]
     },
     "execution_count": 46,
     "metadata": {},
     "output_type": "execute_result"
    }
   ],
   "source": [
    "description=driver.find_elements(By.XPATH,'//a[@class=\"WKTcLC\"]')\n",
    "for i in description:\n",
    "    descpt=i.text\n",
    "    Product_Description.append(descpt)\n",
    "    \n",
    "Product_Description[:100]"
   ]
  },
  {
   "cell_type": "code",
   "execution_count": 47,
   "id": "d6a8119b",
   "metadata": {},
   "outputs": [],
   "source": [
    "rates=driver.find_elements(By.XPATH,'//div[@class=\"Nx9bqj\"]')\n",
    "for i in rates:\n",
    "    prices=i.text\n",
    "    Price.append(prices)"
   ]
  },
  {
   "cell_type": "code",
   "execution_count": 48,
   "id": "47d44c27",
   "metadata": {},
   "outputs": [
    {
     "name": "stdout",
     "output_type": "stream",
     "text": [
      "40 28 40\n"
     ]
    }
   ],
   "source": [
    "print(len(Brand),len(Product_Description),len(Price))"
   ]
  },
  {
   "cell_type": "markdown",
   "id": "3ab85a17",
   "metadata": {},
   "source": [
    "."
   ]
  },
  {
   "cell_type": "markdown",
   "id": "9f59c061",
   "metadata": {},
   "source": [
    "."
   ]
  },
  {
   "cell_type": "code",
   "execution_count": 49,
   "id": "3629b360",
   "metadata": {},
   "outputs": [],
   "source": [
    "driver = webdriver.Chrome()"
   ]
  },
  {
   "cell_type": "code",
   "execution_count": 50,
   "id": "692483ce",
   "metadata": {},
   "outputs": [],
   "source": [
    "driver.get(\"https://www.amazon.in/\")"
   ]
  },
  {
   "cell_type": "code",
   "execution_count": 51,
   "id": "cb8f3ba4",
   "metadata": {},
   "outputs": [
    {
     "ename": "NoSuchElementException",
     "evalue": "Message: no such element: Unable to locate element: {\"method\":\"css selector\",\"selector\":\".nav-input nav-progressive-attribute\"}\n  (Session info: chrome=128.0.6613.138); For documentation on this error, please visit: https://www.selenium.dev/documentation/webdriver/troubleshooting/errors#no-such-element-exception\nStacktrace:\n\tGetHandleVerifier [0x00007FF666AF9412+29090]\n\t(No symbol) [0x00007FF666A6E239]\n\t(No symbol) [0x00007FF66692B1DA]\n\t(No symbol) [0x00007FF66697EFE7]\n\t(No symbol) [0x00007FF66697F23C]\n\t(No symbol) [0x00007FF6669C97C7]\n\t(No symbol) [0x00007FF6669A672F]\n\t(No symbol) [0x00007FF6669C65A2]\n\t(No symbol) [0x00007FF6669A6493]\n\t(No symbol) [0x00007FF6669709D1]\n\t(No symbol) [0x00007FF666971B31]\n\tGetHandleVerifier [0x00007FF666E1871D+3302573]\n\tGetHandleVerifier [0x00007FF666E64243+3612627]\n\tGetHandleVerifier [0x00007FF666E5A417+3572135]\n\tGetHandleVerifier [0x00007FF666BB5EB6+801862]\n\t(No symbol) [0x00007FF666A7945F]\n\t(No symbol) [0x00007FF666A74FB4]\n\t(No symbol) [0x00007FF666A75140]\n\t(No symbol) [0x00007FF666A6461F]\n\tBaseThreadInitThunk [0x00007FFFE771257D+29]\n\tRtlUserThreadStart [0x00007FFFE88AAF28+40]\n",
     "output_type": "error",
     "traceback": [
      "\u001b[1;31m---------------------------------------------------------------------------\u001b[0m",
      "\u001b[1;31mNoSuchElementException\u001b[0m                    Traceback (most recent call last)",
      "Cell \u001b[1;32mIn[51], line 1\u001b[0m\n\u001b[1;32m----> 1\u001b[0m search\u001b[38;5;241m=\u001b[39mdriver\u001b[38;5;241m.\u001b[39mfind_element(By\u001b[38;5;241m.\u001b[39mCLASS_NAME,\u001b[38;5;124m\"\u001b[39m\u001b[38;5;124mnav-input nav-progressive-attribute\u001b[39m\u001b[38;5;124m\"\u001b[39m)\n\u001b[0;32m      2\u001b[0m search\u001b[38;5;241m.\u001b[39msend_keys(\u001b[38;5;124m'\u001b[39m\u001b[38;5;124mlaptop\u001b[39m\u001b[38;5;124m'\u001b[39m)\n",
      "File \u001b[1;32m~\\anaconda3\\Lib\\site-packages\\selenium\\webdriver\\remote\\webdriver.py:748\u001b[0m, in \u001b[0;36mWebDriver.find_element\u001b[1;34m(self, by, value)\u001b[0m\n\u001b[0;32m    745\u001b[0m     by \u001b[38;5;241m=\u001b[39m By\u001b[38;5;241m.\u001b[39mCSS_SELECTOR\n\u001b[0;32m    746\u001b[0m     value \u001b[38;5;241m=\u001b[39m \u001b[38;5;124mf\u001b[39m\u001b[38;5;124m'\u001b[39m\u001b[38;5;124m[name=\u001b[39m\u001b[38;5;124m\"\u001b[39m\u001b[38;5;132;01m{\u001b[39;00mvalue\u001b[38;5;132;01m}\u001b[39;00m\u001b[38;5;124m\"\u001b[39m\u001b[38;5;124m]\u001b[39m\u001b[38;5;124m'\u001b[39m\n\u001b[1;32m--> 748\u001b[0m \u001b[38;5;28;01mreturn\u001b[39;00m \u001b[38;5;28mself\u001b[39m\u001b[38;5;241m.\u001b[39mexecute(Command\u001b[38;5;241m.\u001b[39mFIND_ELEMENT, {\u001b[38;5;124m\"\u001b[39m\u001b[38;5;124musing\u001b[39m\u001b[38;5;124m\"\u001b[39m: by, \u001b[38;5;124m\"\u001b[39m\u001b[38;5;124mvalue\u001b[39m\u001b[38;5;124m\"\u001b[39m: value})[\u001b[38;5;124m\"\u001b[39m\u001b[38;5;124mvalue\u001b[39m\u001b[38;5;124m\"\u001b[39m]\n",
      "File \u001b[1;32m~\\anaconda3\\Lib\\site-packages\\selenium\\webdriver\\remote\\webdriver.py:354\u001b[0m, in \u001b[0;36mWebDriver.execute\u001b[1;34m(self, driver_command, params)\u001b[0m\n\u001b[0;32m    352\u001b[0m response \u001b[38;5;241m=\u001b[39m \u001b[38;5;28mself\u001b[39m\u001b[38;5;241m.\u001b[39mcommand_executor\u001b[38;5;241m.\u001b[39mexecute(driver_command, params)\n\u001b[0;32m    353\u001b[0m \u001b[38;5;28;01mif\u001b[39;00m response:\n\u001b[1;32m--> 354\u001b[0m     \u001b[38;5;28mself\u001b[39m\u001b[38;5;241m.\u001b[39merror_handler\u001b[38;5;241m.\u001b[39mcheck_response(response)\n\u001b[0;32m    355\u001b[0m     response[\u001b[38;5;124m\"\u001b[39m\u001b[38;5;124mvalue\u001b[39m\u001b[38;5;124m\"\u001b[39m] \u001b[38;5;241m=\u001b[39m \u001b[38;5;28mself\u001b[39m\u001b[38;5;241m.\u001b[39m_unwrap_value(response\u001b[38;5;241m.\u001b[39mget(\u001b[38;5;124m\"\u001b[39m\u001b[38;5;124mvalue\u001b[39m\u001b[38;5;124m\"\u001b[39m, \u001b[38;5;28;01mNone\u001b[39;00m))\n\u001b[0;32m    356\u001b[0m     \u001b[38;5;28;01mreturn\u001b[39;00m response\n",
      "File \u001b[1;32m~\\anaconda3\\Lib\\site-packages\\selenium\\webdriver\\remote\\errorhandler.py:229\u001b[0m, in \u001b[0;36mErrorHandler.check_response\u001b[1;34m(self, response)\u001b[0m\n\u001b[0;32m    227\u001b[0m         alert_text \u001b[38;5;241m=\u001b[39m value[\u001b[38;5;124m\"\u001b[39m\u001b[38;5;124malert\u001b[39m\u001b[38;5;124m\"\u001b[39m]\u001b[38;5;241m.\u001b[39mget(\u001b[38;5;124m\"\u001b[39m\u001b[38;5;124mtext\u001b[39m\u001b[38;5;124m\"\u001b[39m)\n\u001b[0;32m    228\u001b[0m     \u001b[38;5;28;01mraise\u001b[39;00m exception_class(message, screen, stacktrace, alert_text)  \u001b[38;5;66;03m# type: ignore[call-arg]  # mypy is not smart enough here\u001b[39;00m\n\u001b[1;32m--> 229\u001b[0m \u001b[38;5;28;01mraise\u001b[39;00m exception_class(message, screen, stacktrace)\n",
      "\u001b[1;31mNoSuchElementException\u001b[0m: Message: no such element: Unable to locate element: {\"method\":\"css selector\",\"selector\":\".nav-input nav-progressive-attribute\"}\n  (Session info: chrome=128.0.6613.138); For documentation on this error, please visit: https://www.selenium.dev/documentation/webdriver/troubleshooting/errors#no-such-element-exception\nStacktrace:\n\tGetHandleVerifier [0x00007FF666AF9412+29090]\n\t(No symbol) [0x00007FF666A6E239]\n\t(No symbol) [0x00007FF66692B1DA]\n\t(No symbol) [0x00007FF66697EFE7]\n\t(No symbol) [0x00007FF66697F23C]\n\t(No symbol) [0x00007FF6669C97C7]\n\t(No symbol) [0x00007FF6669A672F]\n\t(No symbol) [0x00007FF6669C65A2]\n\t(No symbol) [0x00007FF6669A6493]\n\t(No symbol) [0x00007FF6669709D1]\n\t(No symbol) [0x00007FF666971B31]\n\tGetHandleVerifier [0x00007FF666E1871D+3302573]\n\tGetHandleVerifier [0x00007FF666E64243+3612627]\n\tGetHandleVerifier [0x00007FF666E5A417+3572135]\n\tGetHandleVerifier [0x00007FF666BB5EB6+801862]\n\t(No symbol) [0x00007FF666A7945F]\n\t(No symbol) [0x00007FF666A74FB4]\n\t(No symbol) [0x00007FF666A75140]\n\t(No symbol) [0x00007FF666A6461F]\n\tBaseThreadInitThunk [0x00007FFFE771257D+29]\n\tRtlUserThreadStart [0x00007FFFE88AAF28+40]\n"
     ]
    }
   ],
   "source": [
    "search=driver.find_element(By.CLASS_NAME,\"nav-input nav-progressive-attribute\")\n",
    "search.send_keys('laptop')"
   ]
  },
  {
   "cell_type": "markdown",
   "id": "44e79cba",
   "metadata": {},
   "source": [
    "."
   ]
  },
  {
   "cell_type": "markdown",
   "id": "e505faac",
   "metadata": {},
   "source": [
    "."
   ]
  },
  {
   "cell_type": "code",
   "execution_count": 52,
   "id": "9de1405b",
   "metadata": {},
   "outputs": [],
   "source": [
    "driver = webdriver.Chrome()"
   ]
  },
  {
   "cell_type": "code",
   "execution_count": 53,
   "id": "836e82ec",
   "metadata": {},
   "outputs": [],
   "source": [
    "driver.get('https://www.azquotes.com/')"
   ]
  },
  {
   "cell_type": "code",
   "execution_count": 54,
   "id": "7f483c11",
   "metadata": {},
   "outputs": [],
   "source": [
    "Quote=[]\n",
    "Author=[]\n",
    "Type_of_Quote=[]"
   ]
  },
  {
   "cell_type": "code",
   "execution_count": 55,
   "id": "b1abc87f",
   "metadata": {},
   "outputs": [],
   "source": [
    "names=driver.find_elements(By.XPATH,'//a[@class=\"title\"]')\n",
    "for i in names:\n",
    "    quotes=i.text\n",
    "    Quote.append(quotes)"
   ]
  },
  {
   "cell_type": "code",
   "execution_count": 56,
   "id": "413e7f7b",
   "metadata": {},
   "outputs": [
    {
     "data": {
      "text/plain": [
       "100"
      ]
     },
     "execution_count": 56,
     "metadata": {},
     "output_type": "execute_result"
    }
   ],
   "source": [
    "len(Quote)"
   ]
  },
  {
   "cell_type": "code",
   "execution_count": 57,
   "id": "affb4238",
   "metadata": {},
   "outputs": [],
   "source": [
    "authorname=driver.find_elements(By.XPATH,'//div[@class=\"author\"]')\n",
    "for i in authorname:\n",
    "    authr=i.text\n",
    "    Author.append(authr)"
   ]
  },
  {
   "cell_type": "code",
   "execution_count": 58,
   "id": "91a83c54",
   "metadata": {},
   "outputs": [],
   "source": [
    "quote=driver.find_elements(By.XPATH,'//div[@class=\"tags\"]')\n",
    "for i in quote:\n",
    "    Type=i.text\n",
    "    Type_of_Quote.append(Type)"
   ]
  },
  {
   "cell_type": "code",
   "execution_count": 59,
   "id": "c3becaea",
   "metadata": {},
   "outputs": [
    {
     "name": "stdout",
     "output_type": "stream",
     "text": [
      "100 100 100\n"
     ]
    }
   ],
   "source": [
    "print(len(Quote),len(Author),len(Type_of_Quote))"
   ]
  },
  {
   "cell_type": "code",
   "execution_count": 60,
   "id": "e6cc406c",
   "metadata": {},
   "outputs": [],
   "source": [
    "Quotes=[]"
   ]
  },
  {
   "cell_type": "code",
   "execution_count": 61,
   "id": "10fdc085",
   "metadata": {},
   "outputs": [],
   "source": [
    "start = 0 \n",
    "end = 10\n",
    "for pages in range(start,end):\n",
    "    line=driver.find_elements(By.XPATH,'//a[@class=\"title\"]')\n",
    "    for i in line:\n",
    "        Quotes.append(i.text)\n",
    "    next_button=driver.find_element(By.XPATH,'/html/body/div[1]/div[2]/div/div/div/div[1]/div/div[3]/li[12]')\n",
    "    next_button.click()\n",
    "    time.sleep(3)"
   ]
  },
  {
   "cell_type": "code",
   "execution_count": 62,
   "id": "d7da8034",
   "metadata": {},
   "outputs": [],
   "source": [
    "Authors=[]"
   ]
  },
  {
   "cell_type": "code",
   "execution_count": 63,
   "id": "267bbc5e",
   "metadata": {},
   "outputs": [],
   "source": [
    "start = 0 \n",
    "end = 10\n",
    "for pages in range(start,end):\n",
    "    authrs=driver.find_elements(By.XPATH,'//div[@class=\"author\"]')\n",
    "    for i in authrs:\n",
    "        Authors.append(i.text)\n",
    "    next_button=driver.find_element(By.XPATH,'/html/body/div[1]/div[2]/div/div/div/div[1]/div/div[3]/li[12]')\n",
    "    next_button.click()\n",
    "    time.sleep(3)"
   ]
  },
  {
   "cell_type": "code",
   "execution_count": 64,
   "id": "7f04534f",
   "metadata": {},
   "outputs": [],
   "source": [
    "Types_of_Quote=[]"
   ]
  },
  {
   "cell_type": "code",
   "execution_count": 65,
   "id": "c8babe11",
   "metadata": {},
   "outputs": [],
   "source": [
    "start = 0 \n",
    "end = 10\n",
    "for pages in range(start,end):\n",
    "    types=driver.find_elements(By.XPATH,'//a[@class=\"title\"]')\n",
    "    for i in types:\n",
    "        Types_of_Quote.append(i.text)\n",
    "    next_button=driver.find_element(By.XPATH,'/html/body/div[1]/div[2]/div/div/div/div[1]/div/div[3]/li[12]')\n",
    "    next_button.click()\n",
    "    time.sleep(3)"
   ]
  },
  {
   "cell_type": "code",
   "execution_count": 66,
   "id": "0a8a7216",
   "metadata": {},
   "outputs": [
    {
     "name": "stdout",
     "output_type": "stream",
     "text": [
      "1000 1000 1000\n"
     ]
    }
   ],
   "source": [
    "print(len(Quotes),len(Authors),len(Types_of_Quote))"
   ]
  },
  {
   "cell_type": "code",
   "execution_count": null,
   "id": "f158c333",
   "metadata": {},
   "outputs": [],
   "source": []
  }
 ],
 "metadata": {
  "kernelspec": {
   "display_name": "Python 3 (ipykernel)",
   "language": "python",
   "name": "python3"
  },
  "language_info": {
   "codemirror_mode": {
    "name": "ipython",
    "version": 3
   },
   "file_extension": ".py",
   "mimetype": "text/x-python",
   "name": "python",
   "nbconvert_exporter": "python",
   "pygments_lexer": "ipython3",
   "version": "3.11.5"
  }
 },
 "nbformat": 4,
 "nbformat_minor": 5
}
