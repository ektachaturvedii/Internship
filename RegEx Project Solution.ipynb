{
 "cells": [
  {
   "cell_type": "code",
   "execution_count": 1,
   "id": "b43f9e44",
   "metadata": {},
   "outputs": [],
   "source": [
    "import regex as re"
   ]
  },
  {
   "cell_type": "markdown",
   "id": "6902b328",
   "metadata": {},
   "source": [
    "Question 1- Write a Python program to replace all occurrences of a space, comma, or dot with a colon.\n",
    "\n",
    "Sample Text- 'Python Exercises, PHP exercises.'\n",
    "\n",
    "Expected Output: Python:Exercises::PHP:exercises:"
   ]
  },
  {
   "cell_type": "code",
   "execution_count": 2,
   "id": "01b7b474",
   "metadata": {},
   "outputs": [
    {
     "name": "stdout",
     "output_type": "stream",
     "text": [
      "Python:Exercises::PHP:exercises:\n"
     ]
    }
   ],
   "source": [
    "Text ='Python,Exercises, PHP,exercises.'\n",
    "substitute = re.sub(r\"[ ,.]\", \":\", Text)\n",
    "print(substitute)\n"
   ]
  },
  {
   "cell_type": "markdown",
   "id": "c4082bd3",
   "metadata": {},
   "source": [
    "Question 2-  Create a dataframe using the dictionary below and remove everything (commas (,), !, XXXX, ;, etc.) from the columns except words.\n",
    "Dictionary- {'SUMMARY' : ['hello, world!', 'XXXXX test', '123four, five:; six...']}\n",
    "\n",
    "Expected output-\n",
    "0      hello world\n",
    "1             test\n",
    "2    four five six"
   ]
  },
  {
   "cell_type": "code",
   "execution_count": 3,
   "id": "dc60e832",
   "metadata": {},
   "outputs": [
    {
     "name": "stdout",
     "output_type": "stream",
     "text": [
      "0      hello world\n",
      "1       XXXXX test\n",
      "2    four five six\n",
      "Name: SUMMARY, dtype: object\n"
     ]
    }
   ],
   "source": [
    "import pandas as pd\n",
    "import regex as re\n",
    "\n",
    "dict = {'SUMMARY':['hello, world!', 'XXXXX test', '123four, five:; six...']}\n",
    "df = pd.DataFrame(dict)\n",
    "df['SUMMARY'] = df['SUMMARY'].str.replace('[^a-zA-z\\s]', '', regex = True)\n",
    "print(df['SUMMARY'])"
   ]
  },
  {
   "cell_type": "markdown",
   "id": "64581a0f",
   "metadata": {},
   "source": [
    "Question 3- Create a function in python to find all words that are at least 4 characters long in a string. The use of the re.compile() method is mandatory."
   ]
  },
  {
   "cell_type": "code",
   "execution_count": 4,
   "id": "5f0c7f1b",
   "metadata": {},
   "outputs": [
    {
     "name": "stdout",
     "output_type": "stream",
     "text": [
      "['This', 'with']\n"
     ]
    }
   ],
   "source": [
    "string = \"This is a sample string with words of different length\"\n",
    "def find_words(string):\n",
    "    pattern = re.compile(r'\\b\\w{4}\\b')\n",
    "    matches = pattern.findall(string)\n",
    "    return matches\n",
    "result = find_words(string)\n",
    "print(result)\n"
   ]
  },
  {
   "cell_type": "markdown",
   "id": "682556b7",
   "metadata": {},
   "source": [
    "Question 4- Create a function in python to find all three, four, and five character words in a string. The use of the re.compile() method is mandatory."
   ]
  },
  {
   "cell_type": "code",
   "execution_count": 5,
   "id": "8645025b",
   "metadata": {},
   "outputs": [
    {
     "name": "stdout",
     "output_type": "stream",
     "text": [
      "['This', 'with', 'words']\n"
     ]
    }
   ],
   "source": [
    "string = \"This is a sample string with words of different length\"\n",
    "def find_words(string):\n",
    "    pattern = re.compile(r'\\b\\w{3,5}\\b')\n",
    "    matches = pattern.findall(string)\n",
    "    return matches\n",
    "result = find_words(string)\n",
    "print(result)"
   ]
  },
  {
   "cell_type": "markdown",
   "id": "ecf949bc",
   "metadata": {},
   "source": [
    "Question 5- Create a function in Python to remove the parenthesis in a list of strings. The use of the re.compile() method is mandatory.\n",
    "\n",
    "Sample Text: [\"example (.com)\", \"hr@fliprobo (.com)\", \"github (.com)\", \"Hello (Data Science World)\", \"Data (Scientist)\"]\n",
    "\n",
    "Expected Output:\n",
    "example.com\n",
    "hr@fliprobo.com\n",
    "github.com\n",
    "Hello Data Science World\n",
    "Data Scientist"
   ]
  },
  {
   "cell_type": "code",
   "execution_count": 6,
   "id": "4167e279",
   "metadata": {},
   "outputs": [
    {
     "name": "stdout",
     "output_type": "stream",
     "text": [
      "example .com \n",
      "hr@fliprobo .com \n",
      "github .com \n",
      "Hello Data Science World \n",
      "Data Scientist \n"
     ]
    }
   ],
   "source": [
    "sample_text = [\"example(.com)\", \"hr@fliprobo(.com)\", \"github (.com)\", \"Hello (Data Science World)\", \"Data (Scientist)\"]\n",
    "def remove_parenthesis(text):   \n",
    "    for item in text:     \n",
    "        re_parenthesis=re.compile(r\" ?\\(| ?\\)\")     \n",
    "        print(re_parenthesis.sub(\" \", item))\n",
    "remove_parenthesis(sample_text)"
   ]
  },
  {
   "cell_type": "markdown",
   "id": "93b95aeb",
   "metadata": {},
   "source": [
    "Question 6- Write a python program to remove the parenthesis area from the text stored in the text file using Regular Expression.\n",
    "\n",
    "Sample Text: [\"example (.com)\", \"hr@fliprobo (.com)\", \"github (.com)\", \"Hello (Data Science World)\", \"Data (Scientist)\"]\n",
    "\n",
    "Expected Output: [\"example\", \"hr@fliprobo\", \"github\", \"Hello\", \"Data\"]\n",
    "\n",
    "Note- Store given sample text in the text file and then to remove the parenthesis area from the text."
   ]
  },
  {
   "cell_type": "code",
   "execution_count": 7,
   "id": "13830c02",
   "metadata": {},
   "outputs": [
    {
     "name": "stdout",
     "output_type": "stream",
     "text": [
      " [\"example\", \"hr@fliprobo\", \"github\", \"Hello\", \"Data\"]\n",
      " "
     ]
    }
   ],
   "source": [
    "with open(\"Sample_Text_1.txt\") as file: \n",
    "    for items in file:   \n",
    "        print(re.sub(r\" ?\\([^)]+\\)\", \"\", items), end= \" \")"
   ]
  },
  {
   "cell_type": "markdown",
   "id": "4eb6f5b6",
   "metadata": {},
   "source": [
    "Question 7- Write a regular expression in Python to split a string into uppercase letters.\n",
    "\n",
    "Sample text: “ImportanceOfRegularExpressionsInPython”\n",
    "\n",
    "Expected Output: [‘Importance’, ‘Of’, ‘Regular’, ‘Expression’, ‘In’, ‘Python’]"
   ]
  },
  {
   "cell_type": "code",
   "execution_count": 8,
   "id": "bcd9db83",
   "metadata": {},
   "outputs": [
    {
     "name": "stdout",
     "output_type": "stream",
     "text": [
      "['Importance', 'Of', 'Regular', 'Expressions', 'In', 'Python']\n"
     ]
    }
   ],
   "source": [
    "text = \"ImportanceOfRegularExpressionsInPython\"\n",
    "result = re.findall('[A-Z][^A-Z]*' , text)\n",
    "print(result)"
   ]
  },
  {
   "cell_type": "markdown",
   "id": "d1e9480e",
   "metadata": {},
   "source": [
    "Question 8- Create a function in python to insert spaces between words starting with numbers.\n",
    "\n",
    "Sample Text: “RegularExpression1IsAn2ImportantTopic3InPython\"\n",
    "\n",
    "Expected Output: RegularExpression 1IsAn 2ImportantTopic 3InPython"
   ]
  },
  {
   "cell_type": "code",
   "execution_count": 9,
   "id": "e4baf597",
   "metadata": {},
   "outputs": [
    {
     "name": "stdout",
     "output_type": "stream",
     "text": [
      "RegularExpression 1IsAn 2ImportantTopic 3InPython\n"
     ]
    }
   ],
   "source": [
    "text = \"RegularExpression1IsAn2ImportantTopic3InPython\"\n",
    "def insert_spaces(text):\n",
    "    pattern = r'([A-Za-z]+)(\\d+)'\n",
    "    result = re.sub(pattern, r'\\1 \\2',text)\n",
    "    return result\n",
    "output = insert_spaces(text)\n",
    "print(output)"
   ]
  },
  {
   "cell_type": "markdown",
   "id": "155942c2",
   "metadata": {},
   "source": [
    "Question 9- Create a function in python to insert spaces between words starting with capital letters or with numbers.\n",
    "\n",
    "Sample Text: “RegularExpression1IsAn2ImportantTopic3InPython\"\n",
    "\n",
    "Expected Output:  RegularExpression 1 IsAn 2 ImportantTopic 3 InPython"
   ]
  },
  {
   "cell_type": "code",
   "execution_count": 10,
   "id": "8ae67518",
   "metadata": {},
   "outputs": [
    {
     "name": "stdout",
     "output_type": "stream",
     "text": [
      "RegularExpression 1 IsAn 2 ImportantTopic 3 InPython\n"
     ]
    }
   ],
   "source": [
    "text = \"RegularExpression1IsAn2ImportantTopic3InPython\"\n",
    "def insert_spaces(text):\n",
    "    pattern = r'(\\d+)([A-Za-z]+)'\n",
    "    result = re.sub(pattern, r' \\1 \\2',  text)\n",
    "    return result\n",
    "output = insert_spaces(text)\n",
    "print(output)"
   ]
  },
  {
   "cell_type": "markdown",
   "id": "8e5f9d0c",
   "metadata": {},
   "source": [
    "Question 10- Use the github link below to read the data and create a dataframe. After creating the dataframe extract the first 6 letters of each country and store in the dataframe under a new column called first_five_letters.\n",
    "Github Link-  https://raw.githubusercontent.com/dsrscientist/DSData/master/happiness_score_dataset.csv"
   ]
  },
  {
   "cell_type": "code",
   "execution_count": 11,
   "id": "b8692766",
   "metadata": {},
   "outputs": [
    {
     "name": "stdout",
     "output_type": "stream",
     "text": [
      "0      Switze\n",
      "1      Icelan\n",
      "2      Denmar\n",
      "3      Norway\n",
      "4      Canada\n",
      "        ...  \n",
      "153    Rwanda\n",
      "154     Benin\n",
      "155     Syria\n",
      "156    Burund\n",
      "157      Togo\n",
      "Name: first_five_letters, Length: 158, dtype: object\n"
     ]
    }
   ],
   "source": [
    "url=\"https://raw.githubusercontent.com/dsrscientist/DSData/master/happiness_score_dataset.csv\"\n",
    "df = pd.read_csv(url)\n",
    "df['first_five_letters'] = df['Country'].apply(lambda x: x[:6])\n",
    "print(df['first_five_letters'])"
   ]
  },
  {
   "cell_type": "markdown",
   "id": "ef1f65cf",
   "metadata": {},
   "source": [
    "Question 11- Write a Python program to match a string that contains only upper and lowercase letters, numbers, and underscores."
   ]
  },
  {
   "cell_type": "code",
   "execution_count": 12,
   "id": "3e41244d",
   "metadata": {},
   "outputs": [
    {
     "name": "stdout",
     "output_type": "stream",
     "text": [
      "String does not match the pattern\n",
      "None\n"
     ]
    }
   ],
   "source": [
    "import re\n",
    "def match_string(string):\n",
    "    pattern = r'^[a-zA-Z0-9_]*$'\n",
    "    if re.search(pattern,string):\n",
    "        print(\"String matches the pattern\")\n",
    "    else:\n",
    "        print(\"String does not match the pattern\")\n",
    "string = \"There is Error 404_\"\n",
    "print(match_string(string))"
   ]
  },
  {
   "cell_type": "markdown",
   "id": "334d1c66",
   "metadata": {},
   "source": [
    "Question 12- Write a Python program where a string will start with a specific number. "
   ]
  },
  {
   "cell_type": "code",
   "execution_count": 13,
   "id": "f264ac7d",
   "metadata": {},
   "outputs": [
    {
     "name": "stdout",
     "output_type": "stream",
     "text": [
      "The string starts with the specified number.\n"
     ]
    }
   ],
   "source": [
    "string = '143 Data World'\n",
    "number = 143\n",
    "def check_starting_number(string, number):\n",
    "    if string.startswith(str(number)):\n",
    "        return True\n",
    "    else:\n",
    "        return False\n",
    "\n",
    "if check_starting_number(string, number):\n",
    "    print(\"The string starts with the specified number.\")\n",
    "else:\n",
    "    print(\"The string does not start with the specified number.\")"
   ]
  },
  {
   "cell_type": "markdown",
   "id": "5536f27f",
   "metadata": {},
   "source": [
    "Question 13- Write a Python program to remove leading zeros from an IP address"
   ]
  },
  {
   "cell_type": "code",
   "execution_count": 14,
   "id": "e2f79935",
   "metadata": {},
   "outputs": [
    {
     "name": "stdout",
     "output_type": "stream",
     "text": [
      "188.122.8.4\n"
     ]
    }
   ],
   "source": [
    "ip_address = '188.122.008.004'\n",
    "def remove_leading_zeros(ip_address):\n",
    "\n",
    "    octets = ip_address.split('.')\n",
    "\n",
    "    octets_without_zeros = [str(int(octet))for octet in octets]\n",
    "\n",
    "    ip_address_without_zeros = ('.'.join(octets_without_zeros))\n",
    "    return ip_address_without_zeros\n",
    "    \n",
    "ip_address_without_zeros = remove_leading_zeros(ip_address)\n",
    "print(ip_address_without_zeros)"
   ]
  },
  {
   "cell_type": "markdown",
   "id": "181ff028",
   "metadata": {},
   "source": [
    "Question 14- Write a regular expression in python to match a date string in the form of Month name followed by day number and year stored in a text file.\n",
    "\n",
    "Sample text :  ' On August 15th 1947 that India was declared independent from British colonialism, and the reins of control were handed over to the leaders of the Country’.\n",
    "\n",
    "Expected Output- August 15th 1947\n",
    "\n",
    "Note- Store given sample text in the text file and then extract the date string asked format."
   ]
  },
  {
   "cell_type": "code",
   "execution_count": 15,
   "id": "d2e671a4",
   "metadata": {},
   "outputs": [
    {
     "name": "stdout",
     "output_type": "stream",
     "text": [
      "August 15th 1947\n"
     ]
    }
   ],
   "source": [
    "with open(\"Text.txt\") as file:\n",
    "    for line in file:\n",
    "        pattern = \"([a-zA-Z]+) (\\d+[a-z]+) (\\d+)\"          \n",
    "        matched = re.search(pattern, line)          \n",
    "        print (\"%s\" % (matched.group()))"
   ]
  },
  {
   "cell_type": "markdown",
   "id": "b8bc8d13",
   "metadata": {},
   "source": [
    "Question 15- Write a Python program to search some literals strings in a string. \n",
    "\n",
    "Sample text : 'The quick brown fox jumps over the lazy dog.'\n",
    "\n",
    "Searched words : 'fox', 'dog', 'horse'"
   ]
  },
  {
   "cell_type": "code",
   "execution_count": 16,
   "id": "3f015a15",
   "metadata": {},
   "outputs": [
    {
     "name": "stdout",
     "output_type": "stream",
     "text": [
      "fox words is in String\n",
      "dog words is in String\n",
      "horse words is not in string\n"
     ]
    }
   ],
   "source": [
    "patterns = [ 'fox', 'dog', 'horse' ] \n",
    "text = 'The quick brown fox jumps over the lazy dog.' \n",
    "for pattern in patterns:      \n",
    "    if re.search(pattern,  text):          \n",
    "        print('%s words is in String' %pattern)     \n",
    "    else:          \n",
    "        print('%s words is not in string' %pattern)"
   ]
  },
  {
   "cell_type": "markdown",
   "id": "9a455391",
   "metadata": {},
   "source": [
    "Question 16- Write a Python program to search a literals string in a string and also find the location within the original string where the pattern occurs\n",
    "\n",
    "Sample text : 'The quick brown fox jumps over the lazy dog.'\n",
    "\n",
    "Searched words : 'fox'"
   ]
  },
  {
   "cell_type": "code",
   "execution_count": 17,
   "id": "0683073b",
   "metadata": {},
   "outputs": [
    {
     "name": "stdout",
     "output_type": "stream",
     "text": [
      "Found \"fox\" in \"The quick brown fox jumps over the lazy dog.\" from 16 to 19 \n"
     ]
    }
   ],
   "source": [
    "pattern = 'fox'\n",
    "text = 'The quick brown fox jumps over the lazy dog.'\n",
    "match = re.search(pattern, text)\n",
    "s = match.start()\n",
    "e = match.end()\n",
    "print('Found \"%s\" in \"%s\" from %d to %d ' % \\\n",
    "    (match.re.pattern, match.string, s, e))"
   ]
  },
  {
   "cell_type": "markdown",
   "id": "853c946e",
   "metadata": {},
   "source": [
    "Question 17- Write a Python program to find the substrings within a string.\n",
    "\n",
    "Sample text : 'Python exercises, PHP exercises, C# exercises'\n",
    "Pattern : 'exercises'."
   ]
  },
  {
   "cell_type": "code",
   "execution_count": 18,
   "id": "415ee5aa",
   "metadata": {},
   "outputs": [
    {
     "name": "stdout",
     "output_type": "stream",
     "text": [
      "Found \"exercises\"\n",
      "Found \"exercises\"\n",
      "Found \"exercises\"\n"
     ]
    }
   ],
   "source": [
    "text = 'Python exercises, PHP exercises, C# exercises'\n",
    "pattern = 'exercises' \n",
    "for match in re.findall(pattern, text):     \n",
    "    print('Found \"%s\"' % match)\n"
   ]
  },
  {
   "cell_type": "markdown",
   "id": "c749499d",
   "metadata": {},
   "source": [
    "Question 18- Write a Python program to find the occurrence and position of the substrings within a string."
   ]
  },
  {
   "cell_type": "code",
   "execution_count": 19,
   "id": "747e174a",
   "metadata": {},
   "outputs": [
    {
     "name": "stdout",
     "output_type": "stream",
     "text": [
      "Found \"exercises\" at 7:16\n",
      "Found \"exercises\" at 22:31\n",
      "Found \"exercises\" at 36:45\n"
     ]
    }
   ],
   "source": [
    "text = 'Python exercises, PHP exercises, C# exercises' \n",
    "pattern = 'exercises' \n",
    "for match in re.finditer(pattern, text):     \n",
    "    s = match.start()     \n",
    "    e = match.end()     \n",
    "    print('Found \"%s\" at %d:%d' % (text[s:e], s, e))"
   ]
  },
  {
   "cell_type": "markdown",
   "id": "54426bc9",
   "metadata": {},
   "source": [
    "\n",
    "Question 19- Write a Python program to convert a date of yyyy-mm-dd format to dd-mm-yyyy format."
   ]
  },
  {
   "cell_type": "code",
   "execution_count": 20,
   "id": "db18a96f",
   "metadata": {},
   "outputs": [
    {
     "name": "stdout",
     "output_type": "stream",
     "text": [
      "Original date in YYY-MM-DD Format:  2023-10-04\n",
      "New date in DD-MM-YYYY Format:  04-10-2023\n"
     ]
    }
   ],
   "source": [
    "def change_date_format(dt):\n",
    "    return re.sub(r'(\\d{4})-(\\d{1,2})-(\\d{1,2})', '\\\\3-\\\\2-\\\\1', dt) \n",
    "dt1 = \"2023-10-04\" \n",
    "print(\"Original date in YYY-MM-DD Format: \",dt1) \n",
    "print(\"New date in DD-MM-YYYY Format: \",change_date_format(dt1))"
   ]
  },
  {
   "cell_type": "markdown",
   "id": "1e791826",
   "metadata": {},
   "source": [
    "Question 20- Create a function in python to find all decimal numbers with a precision of 1 or 2 in a string. The use of the re.compile() method is mandatory.\n",
    "\n",
    "Sample Text: \"01.12 0132.123 2.31875 145.8 3.01 27.25 0.25\"\n",
    "\n",
    "Expected Output: ['01.12', '145.8', '3.01', '27.25', '0.25']"
   ]
  },
  {
   "cell_type": "code",
   "execution_count": 21,
   "id": "9aa158bb",
   "metadata": {},
   "outputs": [
    {
     "name": "stdout",
     "output_type": "stream",
     "text": [
      "['01.12', '145.8', '3.01', '27.25', '0.25']\n"
     ]
    }
   ],
   "source": [
    "def decimal_with_precision(string):\n",
    "    deci_num = re.compile(r\"\\b([0-9]+\\.[0-9]{1,2})\\b\")   \n",
    "    result = deci_num.findall(text)   \n",
    "    print(result)\n",
    "text= \"01.12 0132.123 2.31875 145.8 3.01 27.25 0.25\"\n",
    "decimal_with_precision(text)"
   ]
  },
  {
   "cell_type": "markdown",
   "id": "ce47d675",
   "metadata": {},
   "source": [
    "Question 21- Write a Python program to separate and print the numbers and their position of a given string."
   ]
  },
  {
   "cell_type": "code",
   "execution_count": 22,
   "id": "5c6a0924",
   "metadata": {},
   "outputs": [
    {
     "name": "stdout",
     "output_type": "stream",
     "text": [
      "1988\n",
      "Index position: 26\n",
      "5\n",
      "Index position: 56\n",
      "1988\n",
      "Index position: 59\n"
     ]
    }
   ],
   "source": [
    "text = \"Virat is a cricket player 1988 who was born on november 5, 1988\"\n",
    "for m in re.finditer(\"\\d+\", text):     \n",
    "    print(m.group(0))     \n",
    "    print(\"Index position:\", m.start())\n"
   ]
  },
  {
   "cell_type": "markdown",
   "id": "b13da6fe",
   "metadata": {},
   "source": [
    "Question 22- Write a regular expression in python program to extract maximum/largest numeric value from a string.\n",
    "\n",
    "Sample Text:  'My marks in each semester are: 947, 896, 926, 524, 734, 950, 642'\n",
    "\n",
    "Expected Output: 950"
   ]
  },
  {
   "cell_type": "code",
   "execution_count": 23,
   "id": "47399450",
   "metadata": {},
   "outputs": [
    {
     "name": "stdout",
     "output_type": "stream",
     "text": [
      "['947', '896', '926', '524', '734', '950', '642']\n",
      "Maximum Numeric value is  950\n"
     ]
    }
   ],
   "source": [
    "def extractMax(input):\n",
    "    numbers = re.findall('\\d+',input)     \n",
    "    print(numbers)      \n",
    "    numbers = map(int,numbers)          \n",
    "    print (\"Maximum Numeric value is \",max(numbers))\n",
    "input = 'My marks in each semester are: 947, 896, 926, 524, 734, 950, 642' \n",
    "extractMax(input)"
   ]
  },
  {
   "cell_type": "markdown",
   "id": "d088565b",
   "metadata": {},
   "source": [
    "Question 23- Create a function in python to insert spaces between words starting with capital letters.\n",
    "\n",
    "Sample Text: “RegularExpressionIsAnImportantTopicInPython\"\n",
    "\n",
    "Expected Output: Regular Expression Is An Important Topic In Python"
   ]
  },
  {
   "cell_type": "code",
   "execution_count": 24,
   "id": "9571ec28",
   "metadata": {},
   "outputs": [
    {
     "name": "stdout",
     "output_type": "stream",
     "text": [
      "Regular Expression Is An Important Topic In Python\n"
     ]
    }
   ],
   "source": [
    "import re\n",
    "\n",
    "def insert_spaces(text):\n",
    "    pattern = r'([A-Z][a-z]+)'\n",
    "    result = re.sub(pattern, r' \\1', text)\n",
    "    result = result.strip()\n",
    "    return result\n",
    "sample_text = \"RegularExpressionIsAnImportantTopicInPython\"\n",
    "expected_output = insert_spaces(sample_text)\n",
    "print(expected_output)"
   ]
  },
  {
   "cell_type": "markdown",
   "id": "4eb8493c",
   "metadata": {},
   "source": [
    "Question 24- Python regex to find sequences of one upper case letter followed by lower case letters"
   ]
  },
  {
   "cell_type": "code",
   "execution_count": 25,
   "id": "3a03bdd0",
   "metadata": {},
   "outputs": [
    {
     "name": "stdout",
     "output_type": "stream",
     "text": [
      "Yes\n",
      "Yes\n",
      "Yes\n",
      "No\n"
     ]
    }
   ],
   "source": [
    "def match(text):\n",
    "    pattern = '[A-Z][a-z]*$'\n",
    "    if re.search(pattern, text):\n",
    "        return('Yes')     \n",
    "    else:\n",
    "        return('No')\n",
    "\n",
    "print(match('Good Morning'))\n",
    "print(match('good Morning'))\n",
    "print(match('GOOD MORNING'))\n",
    "print(match('Good morning'))"
   ]
  },
  {
   "cell_type": "markdown",
   "id": "23a63ba5",
   "metadata": {},
   "source": [
    "Question 25- Write a Python program to remove continuous duplicate words from Sentence using Regular Expression.\n",
    "\n",
    "Sample Text: \"Hello hello world world\"\n",
    "\n",
    "Expected Output: Hello hello world"
   ]
  },
  {
   "cell_type": "code",
   "execution_count": 26,
   "id": "8c9e6980",
   "metadata": {},
   "outputs": [
    {
     "name": "stdout",
     "output_type": "stream",
     "text": [
      "Hello hello world\n"
     ]
    }
   ],
   "source": [
    "import regex as re\n",
    "sample_text = \"Hello hello world world\"\n",
    "pattern = r'\\b(\\w+)(?:\\W+\\1\\b)+'\n",
    "\n",
    "a = re.sub(pattern, r'\\1', sample_text)\n",
    "print(a)"
   ]
  },
  {
   "cell_type": "markdown",
   "id": "6853198c",
   "metadata": {},
   "source": [
    "Question 26-  Write a python program using RegEx to accept string ending with alphanumeric character."
   ]
  },
  {
   "cell_type": "code",
   "execution_count": 27,
   "id": "bb9d76c2",
   "metadata": {},
   "outputs": [
    {
     "name": "stdout",
     "output_type": "stream",
     "text": [
      "The string is ending with an alphanumeric character. \n",
      "\n",
      "The string is ending with an alphanumeric character. \n",
      "\n",
      "The string is not ending with an alphanumeric character. \n",
      "\n",
      "The string is not ending with an alphanumeric character. \n",
      "\n"
     ]
    }
   ],
   "source": [
    "regex = '[a-zA-z0-9]$' \n",
    "def check_alpha_numeric(string):\n",
    "    if(re.search(regex, string)):         \n",
    "        print(\"The string is ending with an alphanumeric character. \\n\")      \n",
    "    else:        \n",
    "        print(\"The string is not ending with an alphanumeric character. \\n\")   \n",
    "check_alpha_numeric(\"Be aware\") \n",
    "check_alpha_numeric(\"Indiain1947\") \n",
    "check_alpha_numeric(\"15August.\") \n",
    "check_alpha_numeric(\"Independenceday&\")"
   ]
  },
  {
   "cell_type": "markdown",
   "id": "05086af1",
   "metadata": {},
   "source": [
    "Question 27-Write a python program using RegEx to extract the hashtags.\n",
    "\n",
    "Sample Text:  \"\"\"RT @kapil_kausik: #Doltiwal I mean #xyzabc is \"hurt\" by #Demonetization as the same has rendered USELESS <ed><U+00A0><U+00BD><ed><U+00B1><U+0089> \"acquired funds\" No wo\"\"\"\n",
    "\n",
    "Expected Output: ['#Doltiwal', '#xyzabc', '#Demonetization']"
   ]
  },
  {
   "cell_type": "code",
   "execution_count": 28,
   "id": "a1bef988",
   "metadata": {},
   "outputs": [
    {
     "name": "stdout",
     "output_type": "stream",
     "text": [
      "LinkedIn: RT @kapil_kausik: #Doltiwal I mean #xyzabc is \"hurt\" by #Demonetization as the same has rendered USELESS <ed><U+00A0><U+00BD><ed><U+00B1><U+0089> \"acquired funds\" No wo\n",
      "\n",
      " Hashtag: ['#Doltiwal', '#xyzabc', '#Demonetization']\n"
     ]
    }
   ],
   "source": [
    "Sample_Text = \"\"\"RT @kapil_kausik: #Doltiwal I mean #xyzabc is \"hurt\" by #Demonetization as the same has rendered USELESS <ed><U+00A0><U+00BD><ed><U+00B1><U+0089> \"acquired funds\" No wo\"\"\"\n",
    " \n",
    "hashtags = re.findall(r\"#\\w+\", Sample_Text) \n",
    "print(\"LinkedIn:\", Sample_Text) \n",
    "print(\"\\n Hashtag:\", hashtags)"
   ]
  },
  {
   "cell_type": "markdown",
   "id": "73ff3613",
   "metadata": {},
   "source": [
    "Question 28- Write a python program using RegEx to remove <U+..> like symbols\n",
    "Check the below sample text, there are strange symbols something of the sort <U+..> all over the place. You need to come up with a general Regex expression that will cover all such symbols.\n",
    "\n",
    "Sample Text: \"@Jags123456 Bharat band on 28??<ed><U+00A0><U+00BD><ed><U+00B8><U+0082>Those who  are protesting #demonetization  are all different party leaders\"\n",
    "\n",
    "Expected Output: @Jags123456 Bharat band on 28??<ed><ed>Those who  are protesting #demonetization  are all different party leaders"
   ]
  },
  {
   "cell_type": "code",
   "execution_count": 29,
   "id": "d75446a3",
   "metadata": {},
   "outputs": [
    {
     "name": "stdout",
     "output_type": "stream",
     "text": [
      "Sample Text: @Jags123456 Bharat band on 28??<ed><U+00A0><U+00BD><ed><U+00B8><U+0082>Those who  are protesting #demonetization  are all different party leaders\n",
      "\n",
      " Expected Text: @Jags123456 Bharat band on 28??<ed><ed>Those who  are protesting #demonetization  are all different party leaders\n"
     ]
    }
   ],
   "source": [
    "Sample_text= \"@Jags123456 Bharat band on 28??<ed><U+00A0><U+00BD><ed><U+00B8><U+0082>Those who  are protesting #demonetization  are all different party leaders\"\n",
    "removedsymbol_text = re.sub(r\"<U\\+[A-Z0-9]+>\", \"\", Sample_text)  \n",
    "print(\"Sample Text:\", Sample_text)\n",
    "print(\"\\n Expected Text:\", removedsymbol_text)"
   ]
  },
  {
   "cell_type": "markdown",
   "id": "22cb5a22",
   "metadata": {},
   "source": [
    "Question 29- Write a python program to extract dates from the text stored in the text file.\n",
    "\n",
    "Sample Text: Ron was born on 12-09-1992 and he was admitted to school 15-12-1999.\n",
    "\n",
    "Note- Store this sample text in the file and then extract dates."
   ]
  },
  {
   "cell_type": "code",
   "execution_count": 30,
   "id": "182251b0",
   "metadata": {},
   "outputs": [
    {
     "name": "stdout",
     "output_type": "stream",
     "text": [
      "['12-09-1992', '15-12-1999']\n"
     ]
    }
   ],
   "source": [
    "import re \n",
    "with open(\"sample_text.txt\") as file:\n",
    "    for dates in file:\n",
    "        extract_dates = re.findall(r\"\\d{2}-\\d{2}-\\d{4}\", dates)\n",
    "        print(extract_dates)"
   ]
  },
  {
   "cell_type": "markdown",
   "id": "2081291f",
   "metadata": {},
   "source": [
    "Question 30- Create a function in python to remove all words from a string of length between 2 and 4.\n",
    "The use of the re.compile() method is mandatory.\n",
    "\n",
    "Sample Text: \"The following example creates an ArrayList with a capacity of 50 elements. 4 elements are then added to the ArrayList and the ArrayList is trimmed accordingly.\"\n",
    "\n",
    "Expected Output:  following example creates ArrayList a capacity elements. 4 elements added ArrayList ArrayList trimmed accordingly."
   ]
  },
  {
   "cell_type": "code",
   "execution_count": 31,
   "id": "42e3e601",
   "metadata": {},
   "outputs": [
    {
     "name": "stdout",
     "output_type": "stream",
     "text": [
      "following example creates ArrayList a capacity elements. 4 elements added ArrayList ArrayList trimmed accordingly.\n",
      "None\n"
     ]
    }
   ],
   "source": [
    "def remove_words(string):\n",
    "    shortword = re.compile(r'\\b\\w{2,4}\\b ')   \n",
    "    print(shortword.sub('',sample_text))\n",
    "sample_text = \"The following example creates an ArrayList with a capacity of 50 elements. 4 elements are then added to the ArrayList and the ArrayList is trimmed accordingly.\"\n",
    "print(remove_words(sample_text))"
   ]
  }
 ],
 "metadata": {
  "kernelspec": {
   "display_name": "Python 3 (ipykernel)",
   "language": "python",
   "name": "python3"
  },
  "language_info": {
   "codemirror_mode": {
    "name": "ipython",
    "version": 3
   },
   "file_extension": ".py",
   "mimetype": "text/x-python",
   "name": "python",
   "nbconvert_exporter": "python",
   "pygments_lexer": "ipython3",
   "version": "3.11.5"
  }
 },
 "nbformat": 4,
 "nbformat_minor": 5
}
